{
  "nbformat": 4,
  "nbformat_minor": 0,
  "metadata": {
    "colab": {
      "provenance": [],
      "gpuType": "T4",
      "include_colab_link": true
    },
    "kernelspec": {
      "name": "python3",
      "display_name": "Python 3"
    },
    "language_info": {
      "name": "python"
    },
    "accelerator": "GPU"
  },
  "cells": [
    {
      "cell_type": "markdown",
      "metadata": {
        "id": "view-in-github",
        "colab_type": "text"
      },
      "source": [
        "<a href=\"https://colab.research.google.com/github/suinkangme/COMP432-GroupI/blob/main/hyperparameter_search_with_Orion_(2).ipynb\" target=\"_parent\"><img src=\"https://colab.research.google.com/assets/colab-badge.svg\" alt=\"Open In Colab\"/></a>"
      ]
    },
    {
      "cell_type": "code",
      "execution_count": null,
      "metadata": {
        "colab": {
          "base_uri": "https://localhost:8080/"
        },
        "id": "CI8tjSckYODF",
        "outputId": "86671960-06db-4aa9-b6c7-3ba33c0b1f7d"
      },
      "outputs": [
        {
          "output_type": "stream",
          "name": "stdout",
          "text": [
            "Downloading...\n",
            "From: https://drive.google.com/uc?id=1NFGnrygrAZmoDpSwoL66ZjMlDBo7I5NN\n",
            "To: /content/train_data.npz\n",
            "100% 869M/869M [00:11<00:00, 76.3MB/s]\n",
            "Downloading...\n",
            "From: https://drive.google.com/uc?id=1-1HrZIEGdHrsKzmtz7xikOFHhKOqvpH7\n",
            "To: /content/test_data.npz\n",
            "100% 218M/218M [00:02<00:00, 97.1MB/s]\n"
          ]
        }
      ],
      "source": [
        "!gdown --fuzzy 'https://drive.google.com/file/d/1NFGnrygrAZmoDpSwoL66ZjMlDBo7I5NN/view?usp=sharing'\n",
        "!gdown --fuzzy 'https://drive.google.com/file/d/1-1HrZIEGdHrsKzmtz7xikOFHhKOqvpH7/view?usp=drive_link'"
      ]
    },
    {
      "cell_type": "code",
      "source": [
        "%%capture\n",
        "!pip install git+https://github.com/epistimio/orion.git@develop\n",
        "!pip install orion[profet]"
      ],
      "metadata": {
        "id": "penbIn_0ZNaS"
      },
      "execution_count": null,
      "outputs": []
    },
    {
      "cell_type": "code",
      "source": [
        "%%file train.py\n",
        "\n",
        "import argparse\n",
        "import numpy as np\n",
        "import sklearn\n",
        "import sklearn.preprocessing\n",
        "import sklearn.neural_network\n",
        "from orion.client import report_objective # Orion\n",
        "from sklearn.model_selection import train_test_split\n",
        "import torch\n",
        "import torch.nn as nn\n",
        "import torch.optim as optim\n",
        "import torchvision\n",
        "from torchvision import transforms\n",
        "from torchvision.models import resnet18\n",
        "from torch.utils.data import DataLoader, TensorDataset\n",
        "import pandas as pd\n",
        "import seaborn as sns\n",
        "\n",
        "def train():\n",
        "    parser = argparse.ArgumentParser(description='PyTorch MNIST Example')\n",
        "    parser.add_argument('--batchsize', type=int, default=64,\n",
        "                        help='input batch size for training (default: 64)')\n",
        "    parser.add_argument('--epochs', type=int, default=10,\n",
        "                        help='number of epochs to train (default: 14)')\n",
        "    parser.add_argument('--lr', type=float, default=0.01,\n",
        "                        help='learning rate (default: 1.0)')\n",
        "    parser.add_argument('--eval', type=bool, default=False,\n",
        "                        help='If True it prints the test error (default: False)')\n",
        "    parser.add_argument(\"-f\", required=False)\n",
        "    args = parser.parse_args()\n",
        "\n",
        "    with np.load(\"train_data.npz\") as data:\n",
        "        X_trn = data['images']\n",
        "        y_trn = data['labels']\n",
        "\n",
        "    with np.load(\"test_data.npz\") as data:\n",
        "        X_tst = data['images']\n",
        "        y_tst = data['labels']\n",
        "\n",
        "    X_trn, X_valid, y_trn, y_valid = train_test_split(X_trn, y_trn, test_size = 0.375)\n",
        "\n",
        "    X_train_tensor = torch.from_numpy(X_trn)\n",
        "    y_train_tensor = torch.from_numpy(y_trn)\n",
        "    X_test_tensor = torch.from_numpy(X_tst)\n",
        "    y_test_tensor = torch.from_numpy(y_tst)\n",
        "    X_valid_tensor = torch.from_numpy(X_valid)\n",
        "    y_valid_tensor = torch.from_numpy(y_valid)\n",
        "\n",
        "    train_dataset = TensorDataset(X_train_tensor, y_train_tensor)\n",
        "    test_dataset = TensorDataset(X_test_tensor, y_test_tensor)\n",
        "    valid_dataset= TensorDataset(X_valid_tensor, y_valid_tensor)\n",
        "\n",
        "    classes = ['MUS', 'NORM', 'STR']\n",
        "\n",
        "    train_loader = DataLoader(train_dataset, batch_size= args.batchsize, shuffle=True)\n",
        "    test_loader = DataLoader(test_dataset, batch_size= args.batchsize, shuffle=False)\n",
        "    valid_loader = DataLoader(valid_dataset, batch_size = args.batchsize, shuffle = False)\n",
        "\n",
        "    model = resnet18(weights = None)\n",
        "    num_classes = len(classes)\n",
        "    num_features = model.fc.in_features\n",
        "    model.fc = nn.Linear(num_features, num_classes)\n",
        "\n",
        "    optimizer = optim.Adam(model.parameters(), lr = args.lr)\n",
        "    criterion = nn.CrossEntropyLoss()\n",
        "\n",
        "    # Training\n",
        "    # Training the model\n",
        "    device = torch.device(\"cuda\" if torch.cuda.is_available() else \"cpu\")\n",
        "    model.to(device)\n",
        "\n",
        "    for epoch in range(args.epochs):\n",
        "      model.train()\n",
        "      running_loss = 0.0\n",
        "      correct = 0\n",
        "      total = 0\n",
        "      for images, labels in train_loader:\n",
        "        images, labels = images.to(device), labels.to(device)\n",
        "        batch_size= images.shape[0]\n",
        "        h= images.shape[1]\n",
        "        w= images.shape[2]\n",
        "        channels= images.shape[3]\n",
        "        images= torch.reshape(images,(batch_size,channels,h,w))\n",
        "        optimizer.zero_grad()\n",
        "        outputs = model(images)\n",
        "        loss = criterion(outputs, labels)\n",
        "        loss.backward()\n",
        "        optimizer.step()\n",
        "        #running_loss += loss.item()\n",
        "\n",
        "    # validation\n",
        "    running_loss = 0.0\n",
        "    correct = 0\n",
        "    total = 0\n",
        "    with torch.no_grad():\n",
        "      for images, labels in valid_loader:\n",
        "        images, labels = images.to(device), labels.to(device)\n",
        "        batch_size= images.shape[0]\n",
        "        h= images.shape[1]\n",
        "        w= images.shape[2]\n",
        "        channels= images.shape[3]\n",
        "        images= torch.reshape(images,(batch_size,channels,h,w))\n",
        "        outputs = model(images)\n",
        "        _, predicted = torch.max(outputs.data, 1)\n",
        "        total += labels.size(0)\n",
        "        correct += (predicted == labels).sum().item()\n",
        "\n",
        "    valid_error = 100*(1 - (correct/total))\n",
        "    print(\"Valid Error (\\%): \" + str(valid_error))\n",
        "\n",
        "    report_objective(valid_error)\n",
        "\n",
        "    if args.eval:\n",
        "      running_loss = 0\n",
        "      total = 0\n",
        "      correct = 0\n",
        "      with torch.no_grad():\n",
        "        for data in test_loader:\n",
        "          images, labels = data\n",
        "          images, labels = images.to(device), labels.to(device)\n",
        "          batch_size= images.shape[0]\n",
        "          h= images.shape[1]\n",
        "          w= images.shape[2]\n",
        "          channels= images.shape[3]\n",
        "          images= torch.reshape(images,(batch_size,channels,h,w))\n",
        "          outputs = model(images)\n",
        "          loss = criterion(outputs, labels)\n",
        "          running_loss += loss.item()\n",
        "          _, predicted = torch.max(outputs.data, 1)\n",
        "          total += labels.size(0)\n",
        "          correct += (predicted == labels).sum().item()\n",
        "      test_error = 100*(1-(correct/total))\n",
        "      print(\"Test Error (\\%): \" + str(test_error))\n",
        "\n",
        "if __name__ == '__main__':\n",
        "    train()"
      ],
      "metadata": {
        "id": "FC1LLannaGvJ",
        "colab": {
          "base_uri": "https://localhost:8080/"
        },
        "outputId": "6dc1880e-4c12-4ca8-9210-d268397b8db7"
      },
      "execution_count": null,
      "outputs": [
        {
          "output_type": "stream",
          "name": "stdout",
          "text": [
            "Writing train.py\n"
          ]
        }
      ]
    },
    {
      "cell_type": "code",
      "source": [
        "!orion hunt -n hp_adam --exp-max-trials=15 python train.py --lr~'loguniform(1e-4, 0.1)' --batchsize~'choices([16, 32, 64])' --epochs~'uniform(15, 30, discrete=True)'"
      ],
      "metadata": {
        "colab": {
          "base_uri": "https://localhost:8080/"
        },
        "id": "QD_emTVpliSR",
        "outputId": "4f063e29-4e1b-43fb-e406-4cf52ef25fc2"
      },
      "execution_count": null,
      "outputs": [
        {
          "output_type": "stream",
          "name": "stdout",
          "text": [
            "2023-11-13 19:40:44,571::WARNING::root::Script /content/train.py is not in a git repository. Code modification won't be detected.\n",
            "2023-11-13 19:40:44,708::WARNING::root::Script /content/train.py is not in a git repository. Code modification won't be detected.\n",
            "2023-11-13 19:40:48,894::WARNING::root::Script /content/train.py is not in a git repository. Code modification won't be detected.\n",
            "2023-11-13 19:40:49,370::WARNING::root::Script /content/train.py is not in a git repository. Code modification won't be detected.\n",
            "Valid Error (\\%): 24.22222222222222\n",
            "2023-11-13 19:45:05,253::WARNING::root::Script /content/train.py is not in a git repository. Code modification won't be detected.\n",
            "Valid Error (\\%): 15.666666666666663\n",
            "2023-11-13 19:50:09,895::WARNING::root::Script /content/train.py is not in a git repository. Code modification won't be detected.\n",
            "Valid Error (\\%): 21.111111111111114\n",
            "2023-11-13 19:54:58,761::WARNING::root::Script /content/train.py is not in a git repository. Code modification won't be detected.\n",
            "Valid Error (\\%): 23.944444444444446\n",
            "2023-11-13 19:58:46,151::WARNING::root::Script /content/train.py is not in a git repository. Code modification won't be detected.\n",
            "Valid Error (\\%): 25.055555555555554\n",
            "2023-11-13 20:02:31,764::WARNING::root::Script /content/train.py is not in a git repository. Code modification won't be detected.\n",
            "Valid Error (\\%): 22.611111111111114\n",
            "2023-11-13 20:05:58,480::WARNING::root::Script /content/train.py is not in a git repository. Code modification won't be detected.\n",
            "Valid Error (\\%): 23.05555555555555\n",
            "2023-11-13 20:10:21,244::WARNING::root::Script /content/train.py is not in a git repository. Code modification won't be detected.\n",
            "Valid Error (\\%): 24.055555555555554\n",
            "2023-11-13 20:13:14,007::WARNING::root::Script /content/train.py is not in a git repository. Code modification won't be detected.\n",
            "Valid Error (\\%): 24.33333333333333\n",
            "2023-11-13 20:17:08,706::WARNING::root::Script /content/train.py is not in a git repository. Code modification won't be detected.\n",
            "Valid Error (\\%): 19.333333333333336\n",
            "2023-11-13 20:20:06,510::WARNING::root::Script /content/train.py is not in a git repository. Code modification won't be detected.\n",
            "Valid Error (\\%): 36.111111111111114\n",
            "2023-11-13 20:23:40,936::WARNING::root::Script /content/train.py is not in a git repository. Code modification won't be detected.\n",
            "Valid Error (\\%): 17.94444444444444\n",
            "2023-11-13 20:27:34,386::WARNING::root::Script /content/train.py is not in a git repository. Code modification won't be detected.\n",
            "Valid Error (\\%): 15.44444444444445\n",
            "2023-11-13 20:30:49,148::WARNING::root::Script /content/train.py is not in a git repository. Code modification won't be detected.\n",
            "Valid Error (\\%): 25.611111111111107\n",
            "2023-11-13 20:33:44,793::WARNING::root::Script /content/train.py is not in a git repository. Code modification won't be detected.\n",
            "Valid Error (\\%): 15.555555555555555\n",
            "Search finished successfully\n",
            "\n",
            "Stats\n",
            "=====\n",
            "completed: True\n",
            "trials completed: 15\n",
            "best trial:\n",
            "  id: f204c03d381fcd7bf9f142d90823705e\n",
            "  evaluation: 15.44444444444445\n",
            "  params:\n",
            "    /batchsize: 64\n",
            "    /epochs: 19\n",
            "    /lr: 0.001159\n",
            "start time: 2023-11-13 19:40:48.884333\n",
            "finish time: 2023-11-13 20:38:42.474289\n",
            "elapsed_time: 0:57:53.115602\n",
            "\n",
            "\n",
            "Hints\n",
            "=====\n",
            "\n",
            "Info\n",
            "----\n",
            "\n",
            "To get more information on the experiment, run the command\n",
            "\n",
            "orion info --name hp_adam --version 1\n",
            "\n",
            "\n"
          ]
        }
      ]
    },
    {
      "cell_type": "code",
      "source": [
        "!orion info --name hp_adam --version 1"
      ],
      "metadata": {
        "colab": {
          "base_uri": "https://localhost:8080/"
        },
        "id": "e_S8Dk-p-NkD",
        "outputId": "d8e37b7b-1c5b-4f8b-dc46-aba202454946"
      },
      "execution_count": null,
      "outputs": [
        {
          "output_type": "stream",
          "name": "stdout",
          "text": [
            "Identification\n",
            "==============\n",
            "name: hp_adam\n",
            "version: 1\n",
            "user: root\n",
            "\n",
            "\n",
            "Commandline\n",
            "===========\n",
            "python train.py --lr~loguniform(1e-4, 0.1) --batchsize~choices([16, 32, 64]) --epochs~uniform(15, 30, discrete=True)\n",
            "\n",
            "\n",
            "Config\n",
            "======\n",
            "max trials: 15\n",
            "max broken: 3\n",
            "working dir: \n",
            "\n",
            "\n",
            "Algorithm\n",
            "=========\n",
            "random:\n",
            "    seed: None\n",
            "\n",
            "\n",
            "Space\n",
            "=====\n",
            "/batchsize: choices([16, 32, 64])\n",
            "/epochs: uniform(15, 30, discrete=True)\n",
            "/lr: loguniform(0.0001, 0.1)\n",
            "\n",
            "\n",
            "Meta-data\n",
            "=========\n",
            "user: root\n",
            "datetime: 2023-11-13 19:40:48.884333\n",
            "orion version: 0.2.6.post333+gd51e6ea8\n",
            "VCS:\n",
            "\n",
            "\n",
            "\n",
            "Parent experiment\n",
            "=================\n",
            "root:\n",
            "parent:\n",
            "adapter:\n",
            "\n",
            "\n",
            "Stats\n",
            "=====\n",
            "completed: True\n",
            "trials completed: 15\n",
            "best trial:\n",
            "  id: f204c03d381fcd7bf9f142d90823705e\n",
            "  evaluation: 15.44444444444445\n",
            "  params:\n",
            "    /batchsize: 64\n",
            "    /epochs: 19\n",
            "    /lr: 0.001159\n",
            "start time: 2023-11-13 19:40:48.884333\n",
            "finish time: 2023-11-13 20:38:42.474289\n",
            "elapsed_time: 0:57:53.115602\n",
            "\n",
            "\n"
          ]
        }
      ]
    },
    {
      "cell_type": "code",
      "source": [
        "!python train.py --lr=0.001159 --epochs=19 --batchsize=64 --eval='True'"
      ],
      "metadata": {
        "colab": {
          "base_uri": "https://localhost:8080/"
        },
        "id": "Bg-MM_BpaNCy",
        "outputId": "6bb2ce43-7bc7-4474-9ff3-7712bcf6786b"
      },
      "execution_count": null,
      "outputs": [
        {
          "output_type": "stream",
          "name": "stdout",
          "text": [
            "Valid Error (\\%): 14.94444444444445\n",
            "[{'name': 'objective', 'type': 'objective', 'value': 14.94444444444445}]\n",
            "Test Error (\\%): 17.500000000000004\n"
          ]
        }
      ]
    },
    {
      "cell_type": "markdown",
      "source": [
        "First run disconnected: results here:\n",
        "\n",
        "2023-11-13 17:33:09,346::WARNING::root::Script /content/train.py is not in a git repository. Code modification won't be detected.\n",
        "2023-11-13 17:33:09,462::WARNING::root::Script /content/train.py is not in a git repository. Code modification won't be detected.\n",
        "2023-11-13 17:33:14,216::WARNING::root::Script /content/train.py is not in a git repository. Code modification won't be detected.\n",
        "2023-11-13 17:33:14,685::WARNING::root::Script /content/train.py is not in a git repository. Code modification won't be detected.\n",
        "Valid Error (\\%): 27.0\n",
        "2023-11-13 17:37:14,750::WARNING::root::Script /content/train.py is not in a git repository. Code modification won't be detected.\n",
        "Valid Error (\\%): 31.666666666666664\n",
        "2023-11-13 17:40:35,544::WARNING::root::Script /content/train.py is not in a git repository. Code modification won't be detected.\n",
        "Valid Error (\\%): 27.44444444444445\n",
        "2023-11-13 17:44:31,909::WARNING::root::Script /content/train.py is not in a git repository. Code modification won't be detected.\n",
        "Valid Error (\\%): 13.555555555555554\n",
        "2023-11-13 17:48:54,486::WARNING::root::Script /content/train.py is not in a git repository. Code modification won't be detected.\n",
        "Valid Error (\\%): 21.333333333333336\n",
        "2023-11-13 17:52:46,323::WARNING::root::Script /content/train.py is not in a git repository. Code modification won't be detected.\n",
        "Valid Error (\\%): 25.388888888888893\n",
        "2023-11-13 17:57:03,199::WARNING::root::Script /content/train.py is not in a git repository. Code modification won't be detected.\n",
        "Valid Error (\\%): 16.11111111111111\n",
        "2023-11-13 18:01:45,248::WARNING::root::Script /content/train.py is not in a git repository. Code modification won't be detected.\n",
        "Valid Error (\\%): 20.611111111111114\n",
        "2023-11-13 18:05:34,455::WARNING::root::Script /content/train.py is not in a git repository. Code modification won't be detected.\n",
        "Valid Error (\\%): 32.611111111111114\n",
        "2023-11-13 18:08:37,094::WARNING::root::Script /content/train.py is not in a git repository. Code modification won't be detected.\n",
        "Valid Error (\\%): 19.444444444444443\n",
        "2023-11-13 18:12:03,111::WARNING::root::Script /content/train.py is not in a git repository. Code modification won't be detected.\n",
        "Valid Error (\\%): 22.22222222222222\n",
        "2023-11-13 18:15:26,246::WARNING::root::Script /content/train.py is not in a git repository. Code modification won't be detected.\n",
        "Valid Error (\\%): 15.888888888888886\n",
        "2023-11-13 18:19:01,091::WARNING::root::Script /content/train.py is not in a git repository. Code modification won't be detected.\n",
        "Valid Error (\\%): 22.277777777777775\n",
        "2023-11-13 18:21:49,862::WARNING::root::Script /content/train.py is not in a git repository. Code modification won't be detected.\n",
        "Valid Error (\\%): 16.77777777777778\n",
        "2023-11-13 18:26:16,074::WARNING::root::Script /content/train.py is not in a git repository. Code modification won't be detected.\n",
        "Valid Error (\\%): 23.33333333333333\n",
        "Search finished successfully\n",
        "\n",
        "Stats\n",
        "=====\n",
        "completed: True\n",
        "trials completed: 15\n",
        "best trial:\n",
        "  id: 13e9799d5615f66c6b84e7fe7a295047\n",
        "  evaluation: 13.555555555555554\n",
        "  params:\n",
        "    /batchsize: 32\n",
        "    /epochs: 26\n",
        "    /lr: 0.0006515\n",
        "start time: 2023-11-13 17:33:14.202656\n",
        "finish time: 2023-11-13 18:29:18.666711\n",
        "elapsed_time: 0:56:03.995837\n",
        "\n",
        "\n",
        "Hints\n",
        "=====\n",
        "\n",
        "Info\n",
        "----\n",
        "\n",
        "To get more information on the experiment, run the command\n",
        "\n",
        "orion info --name hp_adam --version 1\n"
      ],
      "metadata": {
        "id": "VAPkHmVZ9fAg"
      }
    },
    {
      "cell_type": "code",
      "source": [
        "#!python train.py --lr=0.001399 --epochs=19 --batchsize=64 --eval='True' old value validation set with 0.125 of training set"
      ],
      "metadata": {
        "colab": {
          "base_uri": "https://localhost:8080/"
        },
        "id": "prBP643hXgbg",
        "outputId": "4458a0b7-a219-4df7-e0f2-91374b9d6c86"
      },
      "execution_count": null,
      "outputs": [
        {
          "output_type": "stream",
          "name": "stdout",
          "text": [
            "Valid Error (\\%): 13.33333333333333\n",
            "[{'name': 'objective', 'type': 'objective', 'value': 13.33333333333333}]\n",
            "Test Error (\\%): 15.249999999999996\n"
          ]
        }
      ]
    },
    {
      "cell_type": "code",
      "source": [
        "#!python train.py --lr=0.001588 --epochs=41 --batchsize=64 --eval='True' - old value validation set 0.1 of training set"
      ],
      "metadata": {
        "colab": {
          "base_uri": "https://localhost:8080/"
        },
        "id": "p18Auk5U-QL4",
        "outputId": "018aac4a-bde0-45ba-bd73-f104ec20c096"
      },
      "execution_count": null,
      "outputs": [
        {
          "output_type": "stream",
          "name": "stdout",
          "text": [
            "Valid Error (\\%): 13.749999999999996\n",
            "[{'name': 'objective', 'type': 'objective', 'value': 13.749999999999996}]\n",
            "Test Error (\\%): 12.83333333333333\n"
          ]
        }
      ]
    }
  ]
}