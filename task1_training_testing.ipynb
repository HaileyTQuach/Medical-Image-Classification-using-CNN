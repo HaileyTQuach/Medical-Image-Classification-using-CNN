{
  "nbformat": 4,
  "nbformat_minor": 0,
  "metadata": {
    "colab": {
      "provenance": [],
      "authorship_tag": "ABX9TyNiZ31Vptqy2fmR83WWIxgc",
      "include_colab_link": true
    },
    "kernelspec": {
      "name": "python3",
      "display_name": "Python 3"
    },
    "language_info": {
      "name": "python"
    }
  },
  "cells": [
    {
      "cell_type": "markdown",
      "metadata": {
        "id": "view-in-github",
        "colab_type": "text"
      },
      "source": [
        "<a href=\"https://colab.research.google.com/github/suinkangme/COMP432-GroupI/blob/main/task1_training_testing.ipynb\" target=\"_parent\"><img src=\"https://colab.research.google.com/assets/colab-badge.svg\" alt=\"Open In Colab\"/></a>"
      ]
    },
    {
      "cell_type": "code",
      "execution_count": null,
      "metadata": {
        "id": "G57hagOo4dpY"
      },
      "outputs": [],
      "source": [
        "!gdown --fuzzy 'https://drive.google.com/file/d/19vEEI13Jss61yRBg1UAEWrDTaTCbUF1f/view?usp=drive_link'\n",
        "!gdown --fuzzy 'https://drive.google.com/file/d/1y3oo2gNp0o0JlhxMv6xVqr2suo0Gr0xj/view?usp=drive_link'\n",
        "!gdown --fuzzy 'https://drive.google.com/file/d/1IRr-qUZK1S208RtjhR5c_RKE3uMcaFeC/view?usp=drive_link'\n",
        "!gdown --fuzzy 'https://drive.google.com/file/d/1mvZggUcV31TWzZAIRN7ztAhIuS5hkwdx/view?usp=drive_link'"
      ]
    }
  ]
}