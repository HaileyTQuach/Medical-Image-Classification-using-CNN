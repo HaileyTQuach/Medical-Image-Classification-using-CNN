{
  "nbformat": 4,
  "nbformat_minor": 0,
  "metadata": {
    "colab": {
      "provenance": [],
      "gpuType": "T4",
      "include_colab_link": true
    },
    "kernelspec": {
      "name": "python3",
      "display_name": "Python 3"
    },
    "language_info": {
      "name": "python"
    },
    "accelerator": "GPU"
  },
  "cells": [
    {
      "cell_type": "markdown",
      "metadata": {
        "id": "view-in-github",
        "colab_type": "text"
      },
      "source": [
        "<a href=\"https://colab.research.google.com/github/suinkangme/COMP432-GroupI/blob/main/task1_training_testing.ipynb\" target=\"_parent\"><img src=\"https://colab.research.google.com/assets/colab-badge.svg\" alt=\"Open In Colab\"/></a>"
      ]
    },
    {
      "cell_type": "code",
      "execution_count": 3,
      "metadata": {
        "id": "G57hagOo4dpY",
        "outputId": "86cba1b3-c017-4b55-9710-e1d62fba0241",
        "colab": {
          "base_uri": "https://localhost:8080/"
        }
      },
      "outputs": [
        {
          "output_type": "stream",
          "name": "stdout",
          "text": [
            "Downloading...\n",
            "From: https://drive.google.com/uc?id=1625b8ZTvp0NdN8QoP4gFNfq0cTzWwO4x\n",
            "To: /content/train_labels.npy\n",
            "100% 38.5k/38.5k [00:00<00:00, 73.6MB/s]\n",
            "Downloading...\n",
            "From: https://drive.google.com/uc?id=1vJiQKoIrkr7fGYI5aZQN8TIhrGJwUjd_\n",
            "To: /content/test_images.npy\n",
            "100% 723M/723M [00:07<00:00, 102MB/s]\n",
            "Downloading...\n",
            "From: https://drive.google.com/uc?id=1HJWoaKIw1v2ds-m8_E8Hjc_Bv5xtPW55\n",
            "To: /content/test_labels.npy\n",
            "100% 9.73k/9.73k [00:00<00:00, 30.1MB/s]\n",
            "Downloading...\n",
            "From: https://drive.google.com/uc?id=1sXYGPnAjUWBnOz55QqIOwb4Hh5Ljnt6i\n",
            "To: /content/train_images.npy\n",
            "100% 2.89G/2.89G [00:26<00:00, 111MB/s]\n"
          ]
        }
      ],
      "source": [
        "!gdown --fuzzy 'https://drive.google.com/file/d/1625b8ZTvp0NdN8QoP4gFNfq0cTzWwO4x/view?usp=drive_link'\n",
        "!gdown --fuzzy 'https://drive.google.com/file/d/1vJiQKoIrkr7fGYI5aZQN8TIhrGJwUjd_/view?usp=drive_link'\n",
        "!gdown --fuzzy 'https://drive.google.com/file/d/1HJWoaKIw1v2ds-m8_E8Hjc_Bv5xtPW55/view?usp=drive_link'\n",
        "!gdown --fuzzy 'https://drive.google.com/file/d/1sXYGPnAjUWBnOz55QqIOwb4Hh5Ljnt6i/view?usp=drive_link'\n"
      ]
    },
    {
      "cell_type": "code",
      "source": [
        "import numpy as np\n",
        "import matplotlib.pyplot as plt\n",
        "from sklearn.model_selection import train_test_split\n",
        "import torch\n",
        "import torch.nn as nn\n",
        "import torch.optim as optim\n",
        "import torchvision\n",
        "from torchvision import transforms\n",
        "from torchvision.models import resnet18\n",
        "from torch.utils.data import DataLoader, TensorDataset"
      ],
      "metadata": {
        "id": "Mx7d7C47V2kE"
      },
      "execution_count": 4,
      "outputs": []
    },
    {
      "cell_type": "code",
      "source": [
        "# Load the training and testing data\n",
        "X_train = np.load('/content/train_images.npy')\n",
        "y_train = np.load('/content/train_labels.npy')\n",
        "X_test = np.load('/content/test_images.npy')\n",
        "y_test = np.load('/content/test_labels.npy')"
      ],
      "metadata": {
        "id": "_GrH-0VIV2ne"
      },
      "execution_count": 5,
      "outputs": []
    },
    {
      "cell_type": "code",
      "source": [
        "# Convert the data to PyTorch tensors\n",
        "X_train_tensor = torch.from_numpy(X_train)\n",
        "y_train_tensor = torch.from_numpy(y_train)\n",
        "X_test_tensor = torch.from_numpy(X_test)\n",
        "y_test_tensor = torch.from_numpy(y_test)\n",
        "\n",
        "train_dataset = TensorDataset(X_train_tensor, y_train_tensor)\n",
        "test_dataset = TensorDataset(X_test_tensor, y_test_tensor)\n",
        "\n",
        "classes = ['MUS', 'NORM', 'STR']"
      ],
      "metadata": {
        "id": "-CYOavO9V2qW"
      },
      "execution_count": 6,
      "outputs": []
    },
    {
      "cell_type": "code",
      "source": [
        "# DataLoader for training and test data\n",
        "batch_size = 64\n",
        "train_loader = DataLoader(train_dataset, batch_size=batch_size, shuffle=True)\n",
        "test_loader = DataLoader(test_dataset, batch_size=batch_size, shuffle=False)\n",
        "\n",
        "# Define ResNet-18 model with pre-trained weights\n",
        "model = resnet18(weights = None)\n",
        "num_classes = len(classes)\n",
        "num_features = model.fc.in_features\n",
        "model.fc = nn.Linear(num_features, num_classes)"
      ],
      "metadata": {
        "id": "a_cXMcfzWBvR"
      },
      "execution_count": 7,
      "outputs": []
    },
    {
      "cell_type": "code",
      "source": [
        "# Set loss function and optimizer\n",
        "criterion = nn.CrossEntropyLoss()\n",
        "optimizer = optim.Adam(model.parameters(), lr=0.01)"
      ],
      "metadata": {
        "id": "SalBWC3UWFBX"
      },
      "execution_count": 8,
      "outputs": []
    },
    {
      "cell_type": "code",
      "source": [
        "# Training the model\n",
        "num_epochs = 20\n",
        "device = torch.device(\"cuda\" if torch.cuda.is_available() else \"cpu\")\n",
        "model.to(device)\n",
        "\n",
        "for epoch in range(num_epochs):\n",
        "    model.train()\n",
        "    running_loss = 0.0\n",
        "    correct = 0\n",
        "    total = 0\n",
        "\n",
        "    for images, labels in train_loader:\n",
        "        images, labels = images.to(device), labels.to(device)\n",
        "        batch_size= images.shape[0]\n",
        "        h= images.shape[1]\n",
        "        w= images.shape[2]\n",
        "        channels= images.shape[3]\n",
        "        images= torch.reshape(images,(batch_size,channels,h,w))\n",
        "        optimizer.zero_grad()\n",
        "        outputs = model(images)\n",
        "        loss = criterion(outputs, labels)\n",
        "        loss.backward()\n",
        "        optimizer.step()\n",
        "        running_loss += loss.item()\n",
        "\n",
        "        # Calculate accuracy\n",
        "        _, predicted = torch.max(outputs.data, 1)\n",
        "        total += labels.size(0)\n",
        "        correct += (predicted == labels).sum().item()\n",
        "\n",
        "    # Print training loss and accuracy for each epoch\n",
        "    train_loss = running_loss / len(train_loader)\n",
        "    train_accuracy = 100 * correct / total\n",
        "    print(f'Epoch {epoch + 1}/{num_epochs}, Train Loss: {train_loss:.4f}, Train Accuracy: {train_accuracy:.2f}%')\n"
      ],
      "metadata": {
        "id": "f4A5s8GxWFiB",
        "outputId": "b5d96270-e8e4-4cc1-b264-18d0b6776a95",
        "colab": {
          "base_uri": "https://localhost:8080/"
        }
      },
      "execution_count": null,
      "outputs": [
        {
          "output_type": "stream",
          "name": "stdout",
          "text": [
            "Epoch 1/20, Train Loss: 0.4852, Train Accuracy: 79.77%\n",
            "Epoch 2/20, Train Loss: 0.4825, Train Accuracy: 79.79%\n",
            "Epoch 3/20, Train Loss: 0.4958, Train Accuracy: 79.23%\n",
            "Epoch 4/20, Train Loss: 0.4302, Train Accuracy: 81.79%\n",
            "Epoch 5/20, Train Loss: 0.4311, Train Accuracy: 81.96%\n",
            "Epoch 6/20, Train Loss: 0.4016, Train Accuracy: 83.75%\n",
            "Epoch 7/20, Train Loss: 0.4288, Train Accuracy: 82.25%\n",
            "Epoch 8/20, Train Loss: 0.4004, Train Accuracy: 83.79%\n",
            "Epoch 9/20, Train Loss: 0.3707, Train Accuracy: 85.19%\n",
            "Epoch 10/20, Train Loss: 0.3836, Train Accuracy: 85.31%\n",
            "Epoch 11/20, Train Loss: 0.3670, Train Accuracy: 85.00%\n",
            "Epoch 12/20, Train Loss: 0.3582, Train Accuracy: 85.85%\n",
            "Epoch 13/20, Train Loss: 0.3460, Train Accuracy: 86.44%\n",
            "Epoch 14/20, Train Loss: 0.3307, Train Accuracy: 86.73%\n",
            "Epoch 15/20, Train Loss: 0.3265, Train Accuracy: 86.65%\n",
            "Epoch 16/20, Train Loss: 0.3033, Train Accuracy: 88.44%\n",
            "Epoch 17/20, Train Loss: 0.3122, Train Accuracy: 87.79%\n",
            "Epoch 18/20, Train Loss: 0.3066, Train Accuracy: 88.38%\n",
            "Epoch 19/20, Train Loss: 0.2964, Train Accuracy: 88.88%\n",
            "Epoch 20/20, Train Loss: 0.2911, Train Accuracy: 88.98%\n"
          ]
        }
      ]
    },
    {
      "cell_type": "code",
      "source": [
        "from google.colab import drive\n",
        "drive.mount('/content/drive')\n",
        "\n",
        "import os\n",
        "os.chdir('/content/drive/MyDrive/comp432/')\n",
        "\n",
        "torch.save(model.state_dict(), '/content/drive/MyDrive/comp432/resnet18_model.pth')"
      ],
      "metadata": {
        "id": "G0ASPOhKkERr",
        "outputId": "ed99be12-2ddb-48d1-e20b-a3e6ba027fe6",
        "colab": {
          "base_uri": "https://localhost:8080/"
        }
      },
      "execution_count": null,
      "outputs": [
        {
          "output_type": "stream",
          "name": "stdout",
          "text": [
            "Drive already mounted at /content/drive; to attempt to forcibly remount, call drive.mount(\"/content/drive\", force_remount=True).\n"
          ]
        }
      ]
    },
    {
      "cell_type": "markdown",
      "source": [
        "### Note (During the training the model)\n",
        "\n",
        "### Try 1\n",
        "-> train accuracy 64.02% at Epoch 10/10.\n",
        "\n",
        "number of epoch = 10,\n",
        "\n",
        "batch size = 64,\n",
        "\n",
        "optimizer = SGD(with regularization - weight_decay),\n",
        "\n",
        "\n",
        "### Try 2 - change the optimizer to adam & remove regularization(weight decay) and dropout layer\n",
        "-> train accuracy 77.92% at Epoch 10/10.\n",
        "\n",
        "optimizer = adam(without regularization),\n",
        "\n",
        "\n",
        "### Try 3 - train with more epoch\n",
        "->  train accuracy 88.98% at Epoch 20/20.\n",
        "\n",
        "number of epoch = 20\n",
        "\n",
        "\n"
      ],
      "metadata": {
        "id": "TBdUBUTEY3M5"
      }
    },
    {
      "cell_type": "markdown",
      "source": [
        "# **Testing**\n",
        "*Notice : To run the tesing code below, you are required to this:\n",
        "1. Run all the code above EXCEPT those cells where the model is trained and saved. This is to load the testing data.\n",
        "2. Go download the saved model in our shared folder.\n",
        "3. Upload the pth file. Do not make any directory.\n"
      ],
      "metadata": {
        "id": "b9wtl8NMW3f6"
      }
    },
    {
      "cell_type": "code",
      "source": [
        "state_dict = torch.load ('/content/resnet18_model.pth')\n",
        "#in case you are curious what the weights look like ...\n",
        "#print(state_dict)"
      ],
      "metadata": {
        "id": "1qlGlOSYW5Oj"
      },
      "execution_count": 17,
      "outputs": []
    },
    {
      "cell_type": "code",
      "source": [
        "model.load_state_dict(state_dict)"
      ],
      "metadata": {
        "colab": {
          "base_uri": "https://localhost:8080/"
        },
        "id": "HKBHj8WsY1op",
        "outputId": "8d39fc48-fedd-44c3-cb20-c5af31df7c4b"
      },
      "execution_count": 18,
      "outputs": [
        {
          "output_type": "execute_result",
          "data": {
            "text/plain": [
              "<All keys matched successfully>"
            ]
          },
          "metadata": {},
          "execution_count": 18
        }
      ]
    },
    {
      "cell_type": "code",
      "source": [
        "device = torch.device(\"cuda\" if torch.cuda.is_available() else \"cpu\")\n",
        "model.to(device)\n",
        "running_loss = 0\n",
        "total = 0\n",
        "correct = 0\n",
        "\n",
        "with torch.no_grad():\n",
        "  for data in test_loader:\n",
        "    images, labels = data\n",
        "    images, labels = images.to(device), labels.to(device)\n",
        "    batch_size= images.shape[0]\n",
        "    h= images.shape[1]\n",
        "    w= images.shape[2]\n",
        "    channels= images.shape[3]\n",
        "    images= torch.reshape(images,(batch_size,channels,h,w))\n",
        "    outputs = model(images)\n",
        "    loss = criterion(outputs, labels)\n",
        "    running_loss += loss.item()\n",
        "    _, predicted = torch.max(outputs.data, 1)\n",
        "    total += labels.size(0)\n",
        "    correct += (predicted == labels).sum().item()\n",
        "\n",
        "test_loss = running_loss / len(train_loader)\n",
        "test_accuracy = 100 * correct / total\n",
        "print(f'Test Loss: {test_loss:.4f}, Test Accuracy: {test_accuracy:.2f}%')\n"
      ],
      "metadata": {
        "colab": {
          "base_uri": "https://localhost:8080/"
        },
        "id": "uCUtyIDCZYet",
        "outputId": "121dd78b-1341-4626-8d08-d91854376479"
      },
      "execution_count": 19,
      "outputs": [
        {
          "output_type": "stream",
          "name": "stdout",
          "text": [
            "Test Loss: 0.0894, Test Accuracy: 86.08%\n"
          ]
        }
      ]
    }
  ]
}