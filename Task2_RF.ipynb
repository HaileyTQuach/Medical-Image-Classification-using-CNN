{
  "nbformat": 4,
  "nbformat_minor": 0,
  "metadata": {
    "colab": {
      "provenance": [],
      "authorship_tag": "ABX9TyMoBvOW0OIHlTamStZ9vVGj",
      "include_colab_link": true
    },
    "kernelspec": {
      "name": "python3",
      "display_name": "Python 3"
    },
    "language_info": {
      "name": "python"
    }
  },
  "cells": [
    {
      "cell_type": "markdown",
      "metadata": {
        "id": "view-in-github",
        "colab_type": "text"
      },
      "source": [
        "<a href=\"https://colab.research.google.com/github/suinkangme/COMP432-GroupI/blob/main/Task2_RF.ipynb\" target=\"_parent\"><img src=\"https://colab.research.google.com/assets/colab-badge.svg\" alt=\"Open In Colab\"/></a>"
      ]
    },
    {
      "cell_type": "code",
      "execution_count": 1,
      "metadata": {
        "id": "Y90WhS6ETk-M"
      },
      "outputs": [],
      "source": [
        "import numpy as np\n",
        "import matplotlib\n",
        "import matplotlib.pyplot as plt\n",
        "import sklearn\n",
        "import sklearn.tree\n",
        "import sklearn.ensemble\n",
        "import sklearn.metrics\n",
        "from google.colab import files\n",
        "import pandas as pd\n",
        "from sklearn.model_selection import train_test_split\n",
        "from sklearn.metrics import confusion_matrix\n",
        "from sklearn.metrics import classification_report\n",
        "from sklearn.model_selection import GridSearchCV"
      ]
    },
    {
      "cell_type": "code",
      "source": [
        "!gdown 1L5mB-u4-rZIt-CRVLEXPr6Li6W0d21ww"
      ],
      "metadata": {
        "colab": {
          "base_uri": "https://localhost:8080/"
        },
        "id": "kTeT_CZLmoTW",
        "outputId": "f44dca96-e793-48f6-e230-6470e089d3ac"
      },
      "execution_count": 2,
      "outputs": [
        {
          "output_type": "stream",
          "name": "stdout",
          "text": [
            "Downloading...\n",
            "From: https://drive.google.com/uc?id=1L5mB-u4-rZIt-CRVLEXPr6Li6W0d21ww\n",
            "To: /content/Dataset2_imagenet.csv\n",
            "\r  0% 0.00/32.0M [00:00<?, ?B/s]\r 26% 8.39M/32.0M [00:00<00:00, 80.1MB/s]\r100% 32.0M/32.0M [00:00<00:00, 160MB/s] \n"
          ]
        }
      ]
    },
    {
      "cell_type": "code",
      "source": [
        "data = pd.read_csv('Dataset2_imagenet.csv')"
      ],
      "metadata": {
        "id": "0P7qhfBdv3Q3"
      },
      "execution_count": 3,
      "outputs": []
    },
    {
      "cell_type": "code",
      "source": [
        "test_size = 0.2\n",
        "#random_state = 0"
      ],
      "metadata": {
        "id": "kV9N0xgkhdMs"
      },
      "execution_count": 4,
      "outputs": []
    },
    {
      "cell_type": "markdown",
      "source": [
        "Without Gridsearch"
      ],
      "metadata": {
        "id": "pJ5T3SJr0THh"
      }
    },
    {
      "cell_type": "code",
      "source": [
        "X = data.values[:,:-1]\n",
        "y = np.reshape(data.values[:,-1:], (6000,))\n",
        "X_train, X_test, y_train, y_test = train_test_split(X, y.ravel(), test_size=test_size)\n"
      ],
      "metadata": {
        "id": "MIBd1x4dw3zB"
      },
      "execution_count": 5,
      "outputs": []
    },
    {
      "cell_type": "code",
      "source": [
        "rf1 = sklearn.ensemble.RandomForestClassifier().fit(X_train, y_train)"
      ],
      "metadata": {
        "id": "yEppuL_4vsDl"
      },
      "execution_count": 6,
      "outputs": []
    },
    {
      "cell_type": "code",
      "source": [
        "print('Dataset2_imagenet.csv') #this one\n",
        "ya_pred = rf1.predict(X_train)\n",
        "yb_pred = rf1.predict(X_test)\n",
        "print(\"Training set:\\n\", confusion_matrix(y_train, ya_pred), \"\\n\", classification_report(y_train, ya_pred))\n",
        "print(\"Test set:\\n\", confusion_matrix(y_test, yb_pred),\"\\n\", classification_report(y_test, yb_pred))\n",
        "print(\"-----------------------------------------------------\")\n"
      ],
      "metadata": {
        "colab": {
          "base_uri": "https://localhost:8080/"
        },
        "id": "NLuYun88h6xW",
        "outputId": "ff2c2b00-7f96-4abe-baff-a82b1d2b6202"
      },
      "execution_count": 9,
      "outputs": [
        {
          "output_type": "stream",
          "name": "stdout",
          "text": [
            "Dataset2_imagenet.csv\n",
            "Training set:\n",
            " [[1607    0    0]\n",
            " [   0 1612    0]\n",
            " [   0    0 1581]] \n",
            "               precision    recall  f1-score   support\n",
            "\n",
            "         0.0       1.00      1.00      1.00      1607\n",
            "         1.0       1.00      1.00      1.00      1612\n",
            "         2.0       1.00      1.00      1.00      1581\n",
            "\n",
            "    accuracy                           1.00      4800\n",
            "   macro avg       1.00      1.00      1.00      4800\n",
            "weighted avg       1.00      1.00      1.00      4800\n",
            "\n",
            "Test set:\n",
            " [[381  11   1]\n",
            " [ 20 367   1]\n",
            " [ 17   0 402]] \n",
            "               precision    recall  f1-score   support\n",
            "\n",
            "         0.0       0.91      0.97      0.94       393\n",
            "         1.0       0.97      0.95      0.96       388\n",
            "         2.0       1.00      0.96      0.98       419\n",
            "\n",
            "    accuracy                           0.96      1200\n",
            "   macro avg       0.96      0.96      0.96      1200\n",
            "weighted avg       0.96      0.96      0.96      1200\n",
            "\n",
            "-----------------------------------------------------\n"
          ]
        }
      ]
    },
    {
      "cell_type": "markdown",
      "source": [
        "With Gridsearch"
      ],
      "metadata": {
        "id": "Ey0iHWZr0Xqj"
      }
    },
    {
      "cell_type": "code",
      "source": [
        "rf2 = sklearn.ensemble.RandomForestClassifier()\n",
        "param_grid1 = {'criterion': ['gini', 'entropy'],\n",
        "               'max_depth': [3, 4, None],\n",
        "               'min_samples_split': [2, 3, 4]}\n",
        "grid1 = GridSearchCV(estimator=rf2, param_grid=param_grid1, scoring='accuracy')\n",
        "grid1.fit(X_train, np.ravel(y_train))"
      ],
      "metadata": {
        "id": "V-cYDWSH0GuH",
        "outputId": "f6cbae02-fd41-46e3-b77b-d1055c3f2de2",
        "colab": {
          "base_uri": "https://localhost:8080/",
          "height": 118
        }
      },
      "execution_count": 10,
      "outputs": [
        {
          "output_type": "execute_result",
          "data": {
            "text/plain": [
              "GridSearchCV(estimator=RandomForestClassifier(),\n",
              "             param_grid={'criterion': ['gini', 'entropy'],\n",
              "                         'max_depth': [3, 4, None],\n",
              "                         'min_samples_split': [2, 3, 4]},\n",
              "             scoring='accuracy')"
            ],
            "text/html": [
              "<style>#sk-container-id-1 {color: black;background-color: white;}#sk-container-id-1 pre{padding: 0;}#sk-container-id-1 div.sk-toggleable {background-color: white;}#sk-container-id-1 label.sk-toggleable__label {cursor: pointer;display: block;width: 100%;margin-bottom: 0;padding: 0.3em;box-sizing: border-box;text-align: center;}#sk-container-id-1 label.sk-toggleable__label-arrow:before {content: \"▸\";float: left;margin-right: 0.25em;color: #696969;}#sk-container-id-1 label.sk-toggleable__label-arrow:hover:before {color: black;}#sk-container-id-1 div.sk-estimator:hover label.sk-toggleable__label-arrow:before {color: black;}#sk-container-id-1 div.sk-toggleable__content {max-height: 0;max-width: 0;overflow: hidden;text-align: left;background-color: #f0f8ff;}#sk-container-id-1 div.sk-toggleable__content pre {margin: 0.2em;color: black;border-radius: 0.25em;background-color: #f0f8ff;}#sk-container-id-1 input.sk-toggleable__control:checked~div.sk-toggleable__content {max-height: 200px;max-width: 100%;overflow: auto;}#sk-container-id-1 input.sk-toggleable__control:checked~label.sk-toggleable__label-arrow:before {content: \"▾\";}#sk-container-id-1 div.sk-estimator input.sk-toggleable__control:checked~label.sk-toggleable__label {background-color: #d4ebff;}#sk-container-id-1 div.sk-label input.sk-toggleable__control:checked~label.sk-toggleable__label {background-color: #d4ebff;}#sk-container-id-1 input.sk-hidden--visually {border: 0;clip: rect(1px 1px 1px 1px);clip: rect(1px, 1px, 1px, 1px);height: 1px;margin: -1px;overflow: hidden;padding: 0;position: absolute;width: 1px;}#sk-container-id-1 div.sk-estimator {font-family: monospace;background-color: #f0f8ff;border: 1px dotted black;border-radius: 0.25em;box-sizing: border-box;margin-bottom: 0.5em;}#sk-container-id-1 div.sk-estimator:hover {background-color: #d4ebff;}#sk-container-id-1 div.sk-parallel-item::after {content: \"\";width: 100%;border-bottom: 1px solid gray;flex-grow: 1;}#sk-container-id-1 div.sk-label:hover label.sk-toggleable__label {background-color: #d4ebff;}#sk-container-id-1 div.sk-serial::before {content: \"\";position: absolute;border-left: 1px solid gray;box-sizing: border-box;top: 0;bottom: 0;left: 50%;z-index: 0;}#sk-container-id-1 div.sk-serial {display: flex;flex-direction: column;align-items: center;background-color: white;padding-right: 0.2em;padding-left: 0.2em;position: relative;}#sk-container-id-1 div.sk-item {position: relative;z-index: 1;}#sk-container-id-1 div.sk-parallel {display: flex;align-items: stretch;justify-content: center;background-color: white;position: relative;}#sk-container-id-1 div.sk-item::before, #sk-container-id-1 div.sk-parallel-item::before {content: \"\";position: absolute;border-left: 1px solid gray;box-sizing: border-box;top: 0;bottom: 0;left: 50%;z-index: -1;}#sk-container-id-1 div.sk-parallel-item {display: flex;flex-direction: column;z-index: 1;position: relative;background-color: white;}#sk-container-id-1 div.sk-parallel-item:first-child::after {align-self: flex-end;width: 50%;}#sk-container-id-1 div.sk-parallel-item:last-child::after {align-self: flex-start;width: 50%;}#sk-container-id-1 div.sk-parallel-item:only-child::after {width: 0;}#sk-container-id-1 div.sk-dashed-wrapped {border: 1px dashed gray;margin: 0 0.4em 0.5em 0.4em;box-sizing: border-box;padding-bottom: 0.4em;background-color: white;}#sk-container-id-1 div.sk-label label {font-family: monospace;font-weight: bold;display: inline-block;line-height: 1.2em;}#sk-container-id-1 div.sk-label-container {text-align: center;}#sk-container-id-1 div.sk-container {/* jupyter's `normalize.less` sets `[hidden] { display: none; }` but bootstrap.min.css set `[hidden] { display: none !important; }` so we also need the `!important` here to be able to override the default hidden behavior on the sphinx rendered scikit-learn.org. See: https://github.com/scikit-learn/scikit-learn/issues/21755 */display: inline-block !important;position: relative;}#sk-container-id-1 div.sk-text-repr-fallback {display: none;}</style><div id=\"sk-container-id-1\" class=\"sk-top-container\"><div class=\"sk-text-repr-fallback\"><pre>GridSearchCV(estimator=RandomForestClassifier(),\n",
              "             param_grid={&#x27;criterion&#x27;: [&#x27;gini&#x27;, &#x27;entropy&#x27;],\n",
              "                         &#x27;max_depth&#x27;: [3, 4, None],\n",
              "                         &#x27;min_samples_split&#x27;: [2, 3, 4]},\n",
              "             scoring=&#x27;accuracy&#x27;)</pre><b>In a Jupyter environment, please rerun this cell to show the HTML representation or trust the notebook. <br />On GitHub, the HTML representation is unable to render, please try loading this page with nbviewer.org.</b></div><div class=\"sk-container\" hidden><div class=\"sk-item sk-dashed-wrapped\"><div class=\"sk-label-container\"><div class=\"sk-label sk-toggleable\"><input class=\"sk-toggleable__control sk-hidden--visually\" id=\"sk-estimator-id-1\" type=\"checkbox\" ><label for=\"sk-estimator-id-1\" class=\"sk-toggleable__label sk-toggleable__label-arrow\">GridSearchCV</label><div class=\"sk-toggleable__content\"><pre>GridSearchCV(estimator=RandomForestClassifier(),\n",
              "             param_grid={&#x27;criterion&#x27;: [&#x27;gini&#x27;, &#x27;entropy&#x27;],\n",
              "                         &#x27;max_depth&#x27;: [3, 4, None],\n",
              "                         &#x27;min_samples_split&#x27;: [2, 3, 4]},\n",
              "             scoring=&#x27;accuracy&#x27;)</pre></div></div></div><div class=\"sk-parallel\"><div class=\"sk-parallel-item\"><div class=\"sk-item\"><div class=\"sk-label-container\"><div class=\"sk-label sk-toggleable\"><input class=\"sk-toggleable__control sk-hidden--visually\" id=\"sk-estimator-id-2\" type=\"checkbox\" ><label for=\"sk-estimator-id-2\" class=\"sk-toggleable__label sk-toggleable__label-arrow\">estimator: RandomForestClassifier</label><div class=\"sk-toggleable__content\"><pre>RandomForestClassifier()</pre></div></div></div><div class=\"sk-serial\"><div class=\"sk-item\"><div class=\"sk-estimator sk-toggleable\"><input class=\"sk-toggleable__control sk-hidden--visually\" id=\"sk-estimator-id-3\" type=\"checkbox\" ><label for=\"sk-estimator-id-3\" class=\"sk-toggleable__label sk-toggleable__label-arrow\">RandomForestClassifier</label><div class=\"sk-toggleable__content\"><pre>RandomForestClassifier()</pre></div></div></div></div></div></div></div></div></div></div>"
            ]
          },
          "metadata": {},
          "execution_count": 10
        }
      ]
    },
    {
      "cell_type": "code",
      "source": [
        "print('Dataset2_imagenet.csv (with Gridsearch)')\n",
        "ya_pred2 = grid1.predict(X_train)\n",
        "yb_pred2 = grid1.predict(X_test)\n",
        "print(\"Training set:\\n\", confusion_matrix(y_train, ya_pred2), \"\\n\", classification_report(y_train, ya_pred2))\n",
        "print(\"Test set:\\n\", confusion_matrix(y_test, yb_pred2),\"\\n\", classification_report(y_test, yb_pred2))\n",
        "print(grid1.best_params_)\n",
        "print(\"-----------------------------------------------------\")"
      ],
      "metadata": {
        "id": "PBOoAjWS1D8d",
        "outputId": "f6ac9b91-91f4-4a4a-e882-6f4b63f0197b",
        "colab": {
          "base_uri": "https://localhost:8080/"
        }
      },
      "execution_count": 11,
      "outputs": [
        {
          "output_type": "stream",
          "name": "stdout",
          "text": [
            "Dataset2_imagenet.csv (with Gridsearch)\n",
            "Training set:\n",
            " [[1607    0    0]\n",
            " [   0 1612    0]\n",
            " [   0    0 1581]] \n",
            "               precision    recall  f1-score   support\n",
            "\n",
            "         0.0       1.00      1.00      1.00      1607\n",
            "         1.0       1.00      1.00      1.00      1612\n",
            "         2.0       1.00      1.00      1.00      1581\n",
            "\n",
            "    accuracy                           1.00      4800\n",
            "   macro avg       1.00      1.00      1.00      4800\n",
            "weighted avg       1.00      1.00      1.00      4800\n",
            "\n",
            "Test set:\n",
            " [[382   9   2]\n",
            " [ 16 370   2]\n",
            " [ 16   0 403]] \n",
            "               precision    recall  f1-score   support\n",
            "\n",
            "         0.0       0.92      0.97      0.95       393\n",
            "         1.0       0.98      0.95      0.96       388\n",
            "         2.0       0.99      0.96      0.98       419\n",
            "\n",
            "    accuracy                           0.96      1200\n",
            "   macro avg       0.96      0.96      0.96      1200\n",
            "weighted avg       0.96      0.96      0.96      1200\n",
            "\n",
            "{'criterion': 'gini', 'max_depth': None, 'min_samples_split': 3}\n",
            "-----------------------------------------------------\n"
          ]
        }
      ]
    }
  ]
}