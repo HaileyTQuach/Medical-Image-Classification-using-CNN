{
  "nbformat": 4,
  "nbformat_minor": 0,
  "metadata": {
    "colab": {
      "provenance": [],
      "authorship_tag": "ABX9TyN76hZgYVskiqBQVi64hpav",
      "include_colab_link": true
    },
    "kernelspec": {
      "name": "python3",
      "display_name": "Python 3"
    },
    "language_info": {
      "name": "python"
    }
  },
  "cells": [
    {
      "cell_type": "markdown",
      "metadata": {
        "id": "view-in-github",
        "colab_type": "text"
      },
      "source": [
        "<a href=\"https://colab.research.google.com/github/suinkangme/COMP432-GroupI/blob/main/Task2_RF.ipynb\" target=\"_parent\"><img src=\"https://colab.research.google.com/assets/colab-badge.svg\" alt=\"Open In Colab\"/></a>"
      ]
    },
    {
      "cell_type": "code",
      "execution_count": 1,
      "metadata": {
        "id": "Y90WhS6ETk-M"
      },
      "outputs": [],
      "source": [
        "import numpy as np\n",
        "import matplotlib\n",
        "import matplotlib.pyplot as plt\n",
        "import sklearn\n",
        "import sklearn.tree\n",
        "import sklearn.ensemble\n",
        "import sklearn.metrics\n",
        "from google.colab import files\n",
        "import pandas as pd\n",
        "from sklearn.model_selection import train_test_split\n",
        "from sklearn.metrics import confusion_matrix\n",
        "from sklearn.metrics import classification_report"
      ]
    },
    {
      "cell_type": "code",
      "source": [
        "!gdown 1L5mB-u4-rZIt-CRVLEXPr6Li6W0d21ww\n",
        "!gdown 1SAkn3JoiVPNxvOQZ97BznVSEcu1fmHDy"
      ],
      "metadata": {
        "colab": {
          "base_uri": "https://localhost:8080/"
        },
        "id": "kTeT_CZLmoTW",
        "outputId": "094f6008-5e70-4a6b-c94f-6919be990884"
      },
      "execution_count": 2,
      "outputs": [
        {
          "output_type": "stream",
          "name": "stdout",
          "text": [
            "Downloading...\n",
            "From: https://drive.google.com/uc?id=1L5mB-u4-rZIt-CRVLEXPr6Li6W0d21ww\n",
            "To: /content/Dataset2_imagenet.csv\n",
            "100% 32.0M/32.0M [00:01<00:00, 26.5MB/s]\n",
            "Downloading...\n",
            "From: https://drive.google.com/uc?id=1SAkn3JoiVPNxvOQZ97BznVSEcu1fmHDy\n",
            "To: /content/Dataset3_imagenet.csv\n",
            "100% 31.9M/31.9M [00:00<00:00, 51.0MB/s]\n"
          ]
        }
      ]
    },
    {
      "cell_type": "code",
      "source": [
        "data = pd.read_csv('Dataset2_imagenet.csv')\n",
        "data2 = pd.read_csv('Dataset3_imagenet.csv')"
      ],
      "metadata": {
        "id": "0P7qhfBdv3Q3"
      },
      "execution_count": 3,
      "outputs": []
    },
    {
      "cell_type": "code",
      "source": [
        "test_size = 0.2\n",
        "#random_state = 0"
      ],
      "metadata": {
        "id": "kV9N0xgkhdMs"
      },
      "execution_count": 4,
      "outputs": []
    },
    {
      "cell_type": "code",
      "source": [
        "X = data.values[:,:-1]\n",
        "y = np.reshape(data.values[:,-1:], (6000,))\n",
        "X_train, X_test, y_train, y_test = train_test_split(X, y.ravel(), test_size=test_size)\n",
        "\n",
        "X2 = data2.values[:,:-1]\n",
        "y2 = np.reshape(data2.values[:,-1:], (6000,))\n",
        "X_train2, X_test2, y_train2, y_test2 = train_test_split(X2, y2.ravel(), test_size=test_size)"
      ],
      "metadata": {
        "id": "MIBd1x4dw3zB"
      },
      "execution_count": 5,
      "outputs": []
    },
    {
      "cell_type": "code",
      "source": [
        "rf1 = sklearn.ensemble.RandomForestClassifier().fit(X_train, y_train)\n",
        "rf2 = sklearn.ensemble.RandomForestClassifier().fit(X_train2, y_train2)"
      ],
      "metadata": {
        "id": "yEppuL_4vsDl"
      },
      "execution_count": 6,
      "outputs": []
    },
    {
      "cell_type": "code",
      "source": [
        "print('Dataset2_imagenet.csv') #this one\n",
        "ya_pred = rf1.predict(X_train)\n",
        "yb_pred = rf1.predict(X_test)\n",
        "print(\"Training set:\\n\", confusion_matrix(y_train, ya_pred), \"\\n\", classification_report(y_train, ya_pred))\n",
        "print(\"Test set:\\n\", confusion_matrix(y_test, yb_pred),\"\\n\", classification_report(y_test, yb_pred))\n",
        "print(\"-----------------------------------------------------\")\n",
        "\n",
        "print('Dataset3_imagenet.csv')\n",
        "ya_pred2 = rf2.predict(X_train2)\n",
        "yb_pred2 = rf2.predict(X_test2)\n",
        "print(\"Training set:\\n\", confusion_matrix(y_train2, ya_pred2), \"\\n\", classification_report(y_train2, ya_pred2))\n",
        "print(\"Test set:\\n\", confusion_matrix(y_test2, yb_pred2),\"\\n\", classification_report(y_test2, yb_pred2))\n",
        "print(\"-----------------------------------------------------\")\n"
      ],
      "metadata": {
        "colab": {
          "base_uri": "https://localhost:8080/"
        },
        "id": "NLuYun88h6xW",
        "outputId": "cd1c2061-95ab-4024-9c9d-2573cf75d6e8"
      },
      "execution_count": 7,
      "outputs": [
        {
          "output_type": "stream",
          "name": "stdout",
          "text": [
            "Dataset2_imagenet.csv\n",
            "Training set:\n",
            " [[1582    0    0]\n",
            " [   0 1631    0]\n",
            " [   0    0 1587]] \n",
            "               precision    recall  f1-score   support\n",
            "\n",
            "         0.0       1.00      1.00      1.00      1582\n",
            "         1.0       1.00      1.00      1.00      1631\n",
            "         2.0       1.00      1.00      1.00      1587\n",
            "\n",
            "    accuracy                           1.00      4800\n",
            "   macro avg       1.00      1.00      1.00      4800\n",
            "weighted avg       1.00      1.00      1.00      4800\n",
            "\n",
            "Test set:\n",
            " [[405  13   0]\n",
            " [ 17 352   0]\n",
            " [ 14   0 399]] \n",
            "               precision    recall  f1-score   support\n",
            "\n",
            "         0.0       0.93      0.97      0.95       418\n",
            "         1.0       0.96      0.95      0.96       369\n",
            "         2.0       1.00      0.97      0.98       413\n",
            "\n",
            "    accuracy                           0.96      1200\n",
            "   macro avg       0.96      0.96      0.96      1200\n",
            "weighted avg       0.96      0.96      0.96      1200\n",
            "\n",
            "-----------------------------------------------------\n",
            "Dataset3_imagenet.csv\n",
            "Training set:\n",
            " [[1579    0    0]\n",
            " [   0 1606    0]\n",
            " [   0    0 1615]] \n",
            "               precision    recall  f1-score   support\n",
            "\n",
            "         0.0       1.00      1.00      1.00      1579\n",
            "         1.0       1.00      1.00      1.00      1606\n",
            "         2.0       1.00      1.00      1.00      1615\n",
            "\n",
            "    accuracy                           1.00      4800\n",
            "   macro avg       1.00      1.00      1.00      4800\n",
            "weighted avg       1.00      1.00      1.00      4800\n",
            "\n",
            "Test set:\n",
            " [[420   1   0]\n",
            " [  0 393   1]\n",
            " [  0   3 382]] \n",
            "               precision    recall  f1-score   support\n",
            "\n",
            "         0.0       1.00      1.00      1.00       421\n",
            "         1.0       0.99      1.00      0.99       394\n",
            "         2.0       1.00      0.99      0.99       385\n",
            "\n",
            "    accuracy                           1.00      1200\n",
            "   macro avg       1.00      1.00      1.00      1200\n",
            "weighted avg       1.00      1.00      1.00      1200\n",
            "\n",
            "-----------------------------------------------------\n"
          ]
        }
      ]
    }
  ]
}