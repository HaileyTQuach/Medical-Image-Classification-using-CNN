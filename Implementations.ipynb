{
  "cells": [
    {
      "cell_type": "markdown",
      "metadata": {
        "id": "view-in-github",
        "colab_type": "text"
      },
      "source": [
        "<a href=\"https://colab.research.google.com/github/suinkangme/COMP432-GroupI/blob/main/Implementations.ipynb\" target=\"_parent\"><img src=\"https://colab.research.google.com/assets/colab-badge.svg\" alt=\"Open In Colab\"/></a>"
      ]
    },
    {
      "cell_type": "markdown",
      "id": "6bf6e33f",
      "metadata": {
        "id": "6bf6e33f"
      },
      "source": [
        "# Question 1"
      ]
    },
    {
      "cell_type": "code",
      "execution_count": null,
      "id": "fdcdfe57",
      "metadata": {
        "id": "fdcdfe57"
      },
      "outputs": [],
      "source": [
        "import numpy as np\n",
        "import pandas as pd\n",
        "import matplotlib.pyplot as plt\n",
        "from sklearn.linear_model import LinearRegression\n",
        "from sklearn.preprocessing import LabelEncoder\n",
        "from sklearn.model_selection import train_test_split\n",
        "from sklearn.metrics import mean_squared_error, mean_absolute_error\n",
        "from sklearn.preprocessing import StandardScaler"
      ]
    },
    {
      "cell_type": "code",
      "execution_count": null,
      "id": "7610cb44",
      "metadata": {
        "id": "7610cb44",
        "outputId": "b57cc314-823b-4e22-8a21-19914dbfaf7e"
      },
      "outputs": [
        {
          "data": {
            "text/html": [
              "<div>\n",
              "<style scoped>\n",
              "    .dataframe tbody tr th:only-of-type {\n",
              "        vertical-align: middle;\n",
              "    }\n",
              "\n",
              "    .dataframe tbody tr th {\n",
              "        vertical-align: top;\n",
              "    }\n",
              "\n",
              "    .dataframe thead th {\n",
              "        text-align: right;\n",
              "    }\n",
              "</style>\n",
              "<table border=\"1\" class=\"dataframe\">\n",
              "  <thead>\n",
              "    <tr style=\"text-align: right;\">\n",
              "      <th></th>\n",
              "      <th>age</th>\n",
              "      <th>sex</th>\n",
              "      <th>bmi</th>\n",
              "      <th>children</th>\n",
              "      <th>smoker</th>\n",
              "      <th>region</th>\n",
              "      <th>charges</th>\n",
              "    </tr>\n",
              "  </thead>\n",
              "  <tbody>\n",
              "    <tr>\n",
              "      <th>0</th>\n",
              "      <td>19</td>\n",
              "      <td>female</td>\n",
              "      <td>27.900</td>\n",
              "      <td>0</td>\n",
              "      <td>yes</td>\n",
              "      <td>southwest</td>\n",
              "      <td>16884.92400</td>\n",
              "    </tr>\n",
              "    <tr>\n",
              "      <th>1</th>\n",
              "      <td>18</td>\n",
              "      <td>male</td>\n",
              "      <td>33.770</td>\n",
              "      <td>1</td>\n",
              "      <td>no</td>\n",
              "      <td>southeast</td>\n",
              "      <td>1725.55230</td>\n",
              "    </tr>\n",
              "    <tr>\n",
              "      <th>2</th>\n",
              "      <td>28</td>\n",
              "      <td>male</td>\n",
              "      <td>33.000</td>\n",
              "      <td>3</td>\n",
              "      <td>no</td>\n",
              "      <td>southeast</td>\n",
              "      <td>4449.46200</td>\n",
              "    </tr>\n",
              "    <tr>\n",
              "      <th>3</th>\n",
              "      <td>33</td>\n",
              "      <td>male</td>\n",
              "      <td>22.705</td>\n",
              "      <td>0</td>\n",
              "      <td>no</td>\n",
              "      <td>northwest</td>\n",
              "      <td>21984.47061</td>\n",
              "    </tr>\n",
              "    <tr>\n",
              "      <th>4</th>\n",
              "      <td>32</td>\n",
              "      <td>male</td>\n",
              "      <td>28.880</td>\n",
              "      <td>0</td>\n",
              "      <td>no</td>\n",
              "      <td>northwest</td>\n",
              "      <td>3866.85520</td>\n",
              "    </tr>\n",
              "    <tr>\n",
              "      <th>...</th>\n",
              "      <td>...</td>\n",
              "      <td>...</td>\n",
              "      <td>...</td>\n",
              "      <td>...</td>\n",
              "      <td>...</td>\n",
              "      <td>...</td>\n",
              "      <td>...</td>\n",
              "    </tr>\n",
              "    <tr>\n",
              "      <th>1333</th>\n",
              "      <td>50</td>\n",
              "      <td>male</td>\n",
              "      <td>30.970</td>\n",
              "      <td>3</td>\n",
              "      <td>no</td>\n",
              "      <td>northwest</td>\n",
              "      <td>10600.54830</td>\n",
              "    </tr>\n",
              "    <tr>\n",
              "      <th>1334</th>\n",
              "      <td>18</td>\n",
              "      <td>female</td>\n",
              "      <td>31.920</td>\n",
              "      <td>0</td>\n",
              "      <td>no</td>\n",
              "      <td>northeast</td>\n",
              "      <td>2205.98080</td>\n",
              "    </tr>\n",
              "    <tr>\n",
              "      <th>1335</th>\n",
              "      <td>18</td>\n",
              "      <td>female</td>\n",
              "      <td>36.850</td>\n",
              "      <td>0</td>\n",
              "      <td>no</td>\n",
              "      <td>southeast</td>\n",
              "      <td>1629.83350</td>\n",
              "    </tr>\n",
              "    <tr>\n",
              "      <th>1336</th>\n",
              "      <td>21</td>\n",
              "      <td>female</td>\n",
              "      <td>25.800</td>\n",
              "      <td>0</td>\n",
              "      <td>no</td>\n",
              "      <td>southwest</td>\n",
              "      <td>2007.94500</td>\n",
              "    </tr>\n",
              "    <tr>\n",
              "      <th>1337</th>\n",
              "      <td>61</td>\n",
              "      <td>female</td>\n",
              "      <td>29.070</td>\n",
              "      <td>0</td>\n",
              "      <td>yes</td>\n",
              "      <td>northwest</td>\n",
              "      <td>29141.36030</td>\n",
              "    </tr>\n",
              "  </tbody>\n",
              "</table>\n",
              "<p>1338 rows × 7 columns</p>\n",
              "</div>"
            ],
            "text/plain": [
              "      age     sex     bmi  children smoker     region      charges\n",
              "0      19  female  27.900         0    yes  southwest  16884.92400\n",
              "1      18    male  33.770         1     no  southeast   1725.55230\n",
              "2      28    male  33.000         3     no  southeast   4449.46200\n",
              "3      33    male  22.705         0     no  northwest  21984.47061\n",
              "4      32    male  28.880         0     no  northwest   3866.85520\n",
              "...   ...     ...     ...       ...    ...        ...          ...\n",
              "1333   50    male  30.970         3     no  northwest  10600.54830\n",
              "1334   18  female  31.920         0     no  northeast   2205.98080\n",
              "1335   18  female  36.850         0     no  southeast   1629.83350\n",
              "1336   21  female  25.800         0     no  southwest   2007.94500\n",
              "1337   61  female  29.070         0    yes  northwest  29141.36030\n",
              "\n",
              "[1338 rows x 7 columns]"
            ]
          },
          "execution_count": 2,
          "metadata": {},
          "output_type": "execute_result"
        }
      ],
      "source": [
        "df_ins = pd.read_csv(\"Insurance_Dataset.csv\")\n",
        "df_ins"
      ]
    },
    {
      "cell_type": "markdown",
      "id": "bf752cec",
      "metadata": {
        "id": "bf752cec"
      },
      "source": [
        "There are many statistics that could be discussed for the dataset, below are some examples:"
      ]
    },
    {
      "cell_type": "code",
      "execution_count": null,
      "id": "5d3f6677",
      "metadata": {
        "id": "5d3f6677",
        "outputId": "256b7ea8-a6f6-4eb7-b9f9-8b57ba48609d"
      },
      "outputs": [
        {
          "name": "stdout",
          "output_type": "stream",
          "text": [
            "<class 'pandas.core.frame.DataFrame'>\n",
            "RangeIndex: 1338 entries, 0 to 1337\n",
            "Data columns (total 7 columns):\n",
            " #   Column    Non-Null Count  Dtype  \n",
            "---  ------    --------------  -----  \n",
            " 0   age       1338 non-null   int64  \n",
            " 1   sex       1338 non-null   object \n",
            " 2   bmi       1338 non-null   float64\n",
            " 3   children  1338 non-null   int64  \n",
            " 4   smoker    1338 non-null   object \n",
            " 5   region    1338 non-null   object \n",
            " 6   charges   1338 non-null   float64\n",
            "dtypes: float64(2), int64(2), object(3)\n",
            "memory usage: 73.3+ KB\n"
          ]
        }
      ],
      "source": [
        "# Summary and data types\n",
        "df_ins.info()"
      ]
    },
    {
      "cell_type": "code",
      "execution_count": null,
      "id": "99e14ce8",
      "metadata": {
        "id": "99e14ce8",
        "outputId": "44f1a9e0-9e80-4fbc-962d-38f2e556af40"
      },
      "outputs": [
        {
          "data": {
            "text/html": [
              "<div>\n",
              "<style scoped>\n",
              "    .dataframe tbody tr th:only-of-type {\n",
              "        vertical-align: middle;\n",
              "    }\n",
              "\n",
              "    .dataframe tbody tr th {\n",
              "        vertical-align: top;\n",
              "    }\n",
              "\n",
              "    .dataframe thead th {\n",
              "        text-align: right;\n",
              "    }\n",
              "</style>\n",
              "<table border=\"1\" class=\"dataframe\">\n",
              "  <thead>\n",
              "    <tr style=\"text-align: right;\">\n",
              "      <th></th>\n",
              "      <th>age</th>\n",
              "      <th>bmi</th>\n",
              "      <th>children</th>\n",
              "      <th>charges</th>\n",
              "    </tr>\n",
              "  </thead>\n",
              "  <tbody>\n",
              "    <tr>\n",
              "      <th>count</th>\n",
              "      <td>1338.000000</td>\n",
              "      <td>1338.000000</td>\n",
              "      <td>1338.000000</td>\n",
              "      <td>1338.000000</td>\n",
              "    </tr>\n",
              "    <tr>\n",
              "      <th>mean</th>\n",
              "      <td>39.207025</td>\n",
              "      <td>30.663397</td>\n",
              "      <td>1.094918</td>\n",
              "      <td>13270.422265</td>\n",
              "    </tr>\n",
              "    <tr>\n",
              "      <th>std</th>\n",
              "      <td>14.049960</td>\n",
              "      <td>6.098187</td>\n",
              "      <td>1.205493</td>\n",
              "      <td>12110.011237</td>\n",
              "    </tr>\n",
              "    <tr>\n",
              "      <th>min</th>\n",
              "      <td>18.000000</td>\n",
              "      <td>15.960000</td>\n",
              "      <td>0.000000</td>\n",
              "      <td>1121.873900</td>\n",
              "    </tr>\n",
              "    <tr>\n",
              "      <th>25%</th>\n",
              "      <td>27.000000</td>\n",
              "      <td>26.296250</td>\n",
              "      <td>0.000000</td>\n",
              "      <td>4740.287150</td>\n",
              "    </tr>\n",
              "    <tr>\n",
              "      <th>50%</th>\n",
              "      <td>39.000000</td>\n",
              "      <td>30.400000</td>\n",
              "      <td>1.000000</td>\n",
              "      <td>9382.033000</td>\n",
              "    </tr>\n",
              "    <tr>\n",
              "      <th>75%</th>\n",
              "      <td>51.000000</td>\n",
              "      <td>34.693750</td>\n",
              "      <td>2.000000</td>\n",
              "      <td>16639.912515</td>\n",
              "    </tr>\n",
              "    <tr>\n",
              "      <th>max</th>\n",
              "      <td>64.000000</td>\n",
              "      <td>53.130000</td>\n",
              "      <td>5.000000</td>\n",
              "      <td>63770.428010</td>\n",
              "    </tr>\n",
              "  </tbody>\n",
              "</table>\n",
              "</div>"
            ],
            "text/plain": [
              "               age          bmi     children       charges\n",
              "count  1338.000000  1338.000000  1338.000000   1338.000000\n",
              "mean     39.207025    30.663397     1.094918  13270.422265\n",
              "std      14.049960     6.098187     1.205493  12110.011237\n",
              "min      18.000000    15.960000     0.000000   1121.873900\n",
              "25%      27.000000    26.296250     0.000000   4740.287150\n",
              "50%      39.000000    30.400000     1.000000   9382.033000\n",
              "75%      51.000000    34.693750     2.000000  16639.912515\n",
              "max      64.000000    53.130000     5.000000  63770.428010"
            ]
          },
          "execution_count": 4,
          "metadata": {},
          "output_type": "execute_result"
        }
      ],
      "source": [
        "# Statistics about the features and the targets\n",
        "df_ins.describe()"
      ]
    },
    {
      "cell_type": "code",
      "execution_count": null,
      "id": "80aae8c8",
      "metadata": {
        "id": "80aae8c8",
        "outputId": "2989a61f-4c5d-45ff-e0cf-197221a776b5"
      },
      "outputs": [
        {
          "data": {
            "image/png": "[encoded data removed]",
            "text/plain": [
              "<Figure size 640x480 with 1 Axes>"
            ]
          },
          "metadata": {},
          "output_type": "display_data"
        },
        {
          "data": {
            "image/png": "[encoded data removed]",
            "text/plain": [
              "<Figure size 640x480 with 1 Axes>"
            ]
          },
          "metadata": {},
          "output_type": "display_data"
        },
        {
          "data": {
            "image/png": "[encoded data removed]",
            "text/plain": [
              "<Figure size 640x480 with 1 Axes>"
            ]
          },
          "metadata": {},
          "output_type": "display_data"
        }
      ],
      "source": [
        "# Attributes Distributions\n",
        "sex_count = df_ins['sex'].value_counts()\n",
        "plt.pie(sex_count, labels=sex_count.index, autopct='%1.1f%%')\n",
        "plt.title('Distribution of Sex')\n",
        "plt.show()\n",
        "\n",
        "smoker_count = df_ins['smoker'].value_counts()\n",
        "plt.title('Distribution of Somkers')\n",
        "plt.pie(smoker_count, labels=smoker_count.index, autopct='%1.1f%%')\n",
        "plt.show()\n",
        "\n",
        "region_count = df_ins['region'].value_counts()\n",
        "plt.title('Distribution of Regions')\n",
        "plt.pie(region_count, labels=region_count.index, autopct='%1.1f%%')\n",
        "plt.show()"
      ]
    },
    {
      "cell_type": "code",
      "execution_count": null,
      "id": "fd2731db",
      "metadata": {
        "id": "fd2731db",
        "outputId": "6e2def86-fae0-41cc-a4b8-84080586d9ac"
      },
      "outputs": [
        {
          "data": {
            "image/png": "[encoded data removed]",
            "text/plain": [
              "<Figure size 640x480 with 1 Axes>"
            ]
          },
          "metadata": {},
          "output_type": "display_data"
        },
        {
          "data": {
            "image/png": "[encoded data removed]",
            "text/plain": [
              "<Figure size 640x480 with 1 Axes>"
            ]
          },
          "metadata": {},
          "output_type": "display_data"
        },
        {
          "data": {
            "image/png": "[encoded data removed]",
            "text/plain": [
              "<Figure size 640x480 with 1 Axes>"
            ]
          },
          "metadata": {},
          "output_type": "display_data"
        }
      ],
      "source": [
        "# Average Charges per attribute\n",
        "Charges_sex = df_ins.groupby('sex')['charges'].mean()\n",
        "Charges_smoker = df_ins.groupby('smoker')['charges'].mean()\n",
        "Charges_region = df_ins.groupby('region')['charges'].mean()\n",
        "\n",
        "plt.bar(Charges_sex.index, Charges_sex.values)\n",
        "plt.xlabel('sex')\n",
        "plt.ylabel('Average Charges')\n",
        "plt.title(\"Average Charges per sex\")\n",
        "plt.show()\n",
        "\n",
        "plt.bar(Charges_smoker.index, Charges_smoker.values)\n",
        "plt.xlabel('Smoker')\n",
        "plt.ylabel('Average Charges')\n",
        "plt.title(\"Average Charges per Smoker\")\n",
        "plt.show()\n",
        "\n",
        "\n",
        "plt.bar(Charges_region.index, Charges_region.values)\n",
        "plt.xlabel('region')\n",
        "plt.ylabel('Average Charges')\n",
        "plt.title(\"Average Charges per region\")\n",
        "plt.show()"
      ]
    },
    {
      "cell_type": "code",
      "execution_count": null,
      "id": "e0c746ea",
      "metadata": {
        "id": "e0c746ea"
      },
      "outputs": [],
      "source": [
        "# Encoding data\n",
        "label_encoder = LabelEncoder()\n",
        "df_ins['smoker'] = label_encoder.fit_transform(df_ins['smoker'])\n",
        "df_ins['sex'] = label_encoder.fit_transform(df_ins['sex'])\n",
        "df_ins['region'] = label_encoder.fit_transform(df_ins['region'])"
      ]
    },
    {
      "cell_type": "code",
      "execution_count": null,
      "id": "8655a8b2",
      "metadata": {
        "id": "8655a8b2",
        "outputId": "2b13e540-f813-4c09-890e-bacbd480d00c"
      },
      "outputs": [
        {
          "data": {
            "text/html": [
              "<div>\n",
              "<style scoped>\n",
              "    .dataframe tbody tr th:only-of-type {\n",
              "        vertical-align: middle;\n",
              "    }\n",
              "\n",
              "    .dataframe tbody tr th {\n",
              "        vertical-align: top;\n",
              "    }\n",
              "\n",
              "    .dataframe thead th {\n",
              "        text-align: right;\n",
              "    }\n",
              "</style>\n",
              "<table border=\"1\" class=\"dataframe\">\n",
              "  <thead>\n",
              "    <tr style=\"text-align: right;\">\n",
              "      <th></th>\n",
              "      <th>age</th>\n",
              "      <th>sex</th>\n",
              "      <th>bmi</th>\n",
              "      <th>children</th>\n",
              "      <th>smoker</th>\n",
              "      <th>region</th>\n",
              "      <th>charges</th>\n",
              "    </tr>\n",
              "  </thead>\n",
              "  <tbody>\n",
              "    <tr>\n",
              "      <th>0</th>\n",
              "      <td>19</td>\n",
              "      <td>0</td>\n",
              "      <td>27.900</td>\n",
              "      <td>0</td>\n",
              "      <td>1</td>\n",
              "      <td>3</td>\n",
              "      <td>16884.92400</td>\n",
              "    </tr>\n",
              "    <tr>\n",
              "      <th>1</th>\n",
              "      <td>18</td>\n",
              "      <td>1</td>\n",
              "      <td>33.770</td>\n",
              "      <td>1</td>\n",
              "      <td>0</td>\n",
              "      <td>2</td>\n",
              "      <td>1725.55230</td>\n",
              "    </tr>\n",
              "    <tr>\n",
              "      <th>2</th>\n",
              "      <td>28</td>\n",
              "      <td>1</td>\n",
              "      <td>33.000</td>\n",
              "      <td>3</td>\n",
              "      <td>0</td>\n",
              "      <td>2</td>\n",
              "      <td>4449.46200</td>\n",
              "    </tr>\n",
              "    <tr>\n",
              "      <th>3</th>\n",
              "      <td>33</td>\n",
              "      <td>1</td>\n",
              "      <td>22.705</td>\n",
              "      <td>0</td>\n",
              "      <td>0</td>\n",
              "      <td>1</td>\n",
              "      <td>21984.47061</td>\n",
              "    </tr>\n",
              "    <tr>\n",
              "      <th>4</th>\n",
              "      <td>32</td>\n",
              "      <td>1</td>\n",
              "      <td>28.880</td>\n",
              "      <td>0</td>\n",
              "      <td>0</td>\n",
              "      <td>1</td>\n",
              "      <td>3866.85520</td>\n",
              "    </tr>\n",
              "    <tr>\n",
              "      <th>...</th>\n",
              "      <td>...</td>\n",
              "      <td>...</td>\n",
              "      <td>...</td>\n",
              "      <td>...</td>\n",
              "      <td>...</td>\n",
              "      <td>...</td>\n",
              "      <td>...</td>\n",
              "    </tr>\n",
              "    <tr>\n",
              "      <th>1333</th>\n",
              "      <td>50</td>\n",
              "      <td>1</td>\n",
              "      <td>30.970</td>\n",
              "      <td>3</td>\n",
              "      <td>0</td>\n",
              "      <td>1</td>\n",
              "      <td>10600.54830</td>\n",
              "    </tr>\n",
              "    <tr>\n",
              "      <th>1334</th>\n",
              "      <td>18</td>\n",
              "      <td>0</td>\n",
              "      <td>31.920</td>\n",
              "      <td>0</td>\n",
              "      <td>0</td>\n",
              "      <td>0</td>\n",
              "      <td>2205.98080</td>\n",
              "    </tr>\n",
              "    <tr>\n",
              "      <th>1335</th>\n",
              "      <td>18</td>\n",
              "      <td>0</td>\n",
              "      <td>36.850</td>\n",
              "      <td>0</td>\n",
              "      <td>0</td>\n",
              "      <td>2</td>\n",
              "      <td>1629.83350</td>\n",
              "    </tr>\n",
              "    <tr>\n",
              "      <th>1336</th>\n",
              "      <td>21</td>\n",
              "      <td>0</td>\n",
              "      <td>25.800</td>\n",
              "      <td>0</td>\n",
              "      <td>0</td>\n",
              "      <td>3</td>\n",
              "      <td>2007.94500</td>\n",
              "    </tr>\n",
              "    <tr>\n",
              "      <th>1337</th>\n",
              "      <td>61</td>\n",
              "      <td>0</td>\n",
              "      <td>29.070</td>\n",
              "      <td>0</td>\n",
              "      <td>1</td>\n",
              "      <td>1</td>\n",
              "      <td>29141.36030</td>\n",
              "    </tr>\n",
              "  </tbody>\n",
              "</table>\n",
              "<p>1338 rows × 7 columns</p>\n",
              "</div>"
            ],
            "text/plain": [
              "      age  sex     bmi  children  smoker  region      charges\n",
              "0      19    0  27.900         0       1       3  16884.92400\n",
              "1      18    1  33.770         1       0       2   1725.55230\n",
              "2      28    1  33.000         3       0       2   4449.46200\n",
              "3      33    1  22.705         0       0       1  21984.47061\n",
              "4      32    1  28.880         0       0       1   3866.85520\n",
              "...   ...  ...     ...       ...     ...     ...          ...\n",
              "1333   50    1  30.970         3       0       1  10600.54830\n",
              "1334   18    0  31.920         0       0       0   2205.98080\n",
              "1335   18    0  36.850         0       0       2   1629.83350\n",
              "1336   21    0  25.800         0       0       3   2007.94500\n",
              "1337   61    0  29.070         0       1       1  29141.36030\n",
              "\n",
              "[1338 rows x 7 columns]"
            ]
          },
          "execution_count": 8,
          "metadata": {},
          "output_type": "execute_result"
        }
      ],
      "source": [
        "df_ins"
      ]
    },
    {
      "cell_type": "code",
      "execution_count": null,
      "id": "21540464",
      "metadata": {
        "id": "21540464",
        "outputId": "7951b513-d873-44f5-cd20-3a7eca8840c1"
      },
      "outputs": [
        {
          "data": {
            "text/html": [
              "<style>#sk-container-id-1 {color: black;}#sk-container-id-1 pre{padding: 0;}#sk-container-id-1 div.sk-toggleable {background-color: white;}#sk-container-id-1 label.sk-toggleable__label {cursor: pointer;display: block;width: 100%;margin-bottom: 0;padding: 0.3em;box-sizing: border-box;text-align: center;}#sk-container-id-1 label.sk-toggleable__label-arrow:before {content: \"▸\";float: left;margin-right: 0.25em;color: #696969;}#sk-container-id-1 label.sk-toggleable__label-arrow:hover:before {color: black;}#sk-container-id-1 div.sk-estimator:hover label.sk-toggleable__label-arrow:before {color: black;}#sk-container-id-1 div.sk-toggleable__content {max-height: 0;max-width: 0;overflow: hidden;text-align: left;background-color: #f0f8ff;}#sk-container-id-1 div.sk-toggleable__content pre {margin: 0.2em;color: black;border-radius: 0.25em;background-color: #f0f8ff;}#sk-container-id-1 input.sk-toggleable__control:checked~div.sk-toggleable__content {max-height: 200px;max-width: 100%;overflow: auto;}#sk-container-id-1 input.sk-toggleable__control:checked~label.sk-toggleable__label-arrow:before {content: \"▾\";}#sk-container-id-1 div.sk-estimator input.sk-toggleable__control:checked~label.sk-toggleable__label {background-color: #d4ebff;}#sk-container-id-1 div.sk-label input.sk-toggleable__control:checked~label.sk-toggleable__label {background-color: #d4ebff;}#sk-container-id-1 input.sk-hidden--visually {border: 0;clip: rect(1px 1px 1px 1px);clip: rect(1px, 1px, 1px, 1px);height: 1px;margin: -1px;overflow: hidden;padding: 0;position: absolute;width: 1px;}#sk-container-id-1 div.sk-estimator {font-family: monospace;background-color: #f0f8ff;border: 1px dotted black;border-radius: 0.25em;box-sizing: border-box;margin-bottom: 0.5em;}#sk-container-id-1 div.sk-estimator:hover {background-color: #d4ebff;}#sk-container-id-1 div.sk-parallel-item::after {content: \"\";width: 100%;border-bottom: 1px solid gray;flex-grow: 1;}#sk-container-id-1 div.sk-label:hover label.sk-toggleable__label {background-color: #d4ebff;}#sk-container-id-1 div.sk-serial::before {content: \"\";position: absolute;border-left: 1px solid gray;box-sizing: border-box;top: 0;bottom: 0;left: 50%;z-index: 0;}#sk-container-id-1 div.sk-serial {display: flex;flex-direction: column;align-items: center;background-color: white;padding-right: 0.2em;padding-left: 0.2em;position: relative;}#sk-container-id-1 div.sk-item {position: relative;z-index: 1;}#sk-container-id-1 div.sk-parallel {display: flex;align-items: stretch;justify-content: center;background-color: white;position: relative;}#sk-container-id-1 div.sk-item::before, #sk-container-id-1 div.sk-parallel-item::before {content: \"\";position: absolute;border-left: 1px solid gray;box-sizing: border-box;top: 0;bottom: 0;left: 50%;z-index: -1;}#sk-container-id-1 div.sk-parallel-item {display: flex;flex-direction: column;z-index: 1;position: relative;background-color: white;}#sk-container-id-1 div.sk-parallel-item:first-child::after {align-self: flex-end;width: 50%;}#sk-container-id-1 div.sk-parallel-item:last-child::after {align-self: flex-start;width: 50%;}#sk-container-id-1 div.sk-parallel-item:only-child::after {width: 0;}#sk-container-id-1 div.sk-dashed-wrapped {border: 1px dashed gray;margin: 0 0.4em 0.5em 0.4em;box-sizing: border-box;padding-bottom: 0.4em;background-color: white;}#sk-container-id-1 div.sk-label label {font-family: monospace;font-weight: bold;display: inline-block;line-height: 1.2em;}#sk-container-id-1 div.sk-label-container {text-align: center;}#sk-container-id-1 div.sk-container {/* jupyter's `normalize.less` sets `[hidden] { display: none; }` but bootstrap.min.css set `[hidden] { display: none !important; }` so we also need the `!important` here to be able to override the default hidden behavior on the sphinx rendered scikit-learn.org. See: https://github.com/scikit-learn/scikit-learn/issues/21755 */display: inline-block !important;position: relative;}#sk-container-id-1 div.sk-text-repr-fallback {display: none;}</style><div id=\"sk-container-id-1\" class=\"sk-top-container\"><div class=\"sk-text-repr-fallback\"><pre>LinearRegression()</pre><b>In a Jupyter environment, please rerun this cell to show the HTML representation or trust the notebook. <br />On GitHub, the HTML representation is unable to render, please try loading this page with nbviewer.org.</b></div><div class=\"sk-container\" hidden><div class=\"sk-item\"><div class=\"sk-estimator sk-toggleable\"><input class=\"sk-toggleable__control sk-hidden--visually\" id=\"sk-estimator-id-1\" type=\"checkbox\" checked><label for=\"sk-estimator-id-1\" class=\"sk-toggleable__label sk-toggleable__label-arrow\">LinearRegression</label><div class=\"sk-toggleable__content\"><pre>LinearRegression()</pre></div></div></div></div></div>"
            ],
            "text/plain": [
              "LinearRegression()"
            ]
          },
          "execution_count": 9,
          "metadata": {},
          "output_type": "execute_result"
        }
      ],
      "source": [
        "# Training\n",
        "X = df_ins.iloc[:, :-1]  # all columns except the last\n",
        "y = df_ins.iloc[:, -1]  # only the last column\n",
        "X_train, X_test, y_train, y_test = train_test_split(X, y, test_size = 0.3)\n",
        "\n",
        "lr_model = LinearRegression()\n",
        "lr_model.fit(X_train, y_train)"
      ]
    },
    {
      "cell_type": "code",
      "execution_count": null,
      "id": "2530486d",
      "metadata": {
        "id": "2530486d",
        "outputId": "a7c7a118-c961-449a-a571-fc1ea2ccfbe6"
      },
      "outputs": [
        {
          "name": "stdout",
          "output_type": "stream",
          "text": [
            "Training  mean squared error:  34671666.50575931\n",
            "Training absolute squared error:  4019.8996950985165\n",
            "Testing  mean squared error:  41268342.767653756\n",
            "Testing absolute squared error:  4419.613544018905\n"
          ]
        }
      ],
      "source": [
        "lr_predictions = lr_model.predict(X_test)\n",
        "lr_predictions_tr = lr_model.predict(X_train)\n",
        "\n",
        "lr_mse_tr = mean_squared_error(y_train, lr_predictions_tr)\n",
        "lr_mae_tr = mean_absolute_error(y_train, lr_predictions_tr)\n",
        "\n",
        "lr_mse = mean_squared_error(y_test, lr_predictions)\n",
        "lr_mae = mean_absolute_error(y_test, lr_predictions)\n",
        "\n",
        "print(\"Training  mean squared error: \", lr_mse_tr)\n",
        "print(\"Training absolute squared error: \", lr_mae_tr)\n",
        "\n",
        "print(\"Testing  mean squared error: \", lr_mse)\n",
        "print(\"Testing absolute squared error: \", lr_mae)"
      ]
    },
    {
      "cell_type": "markdown",
      "id": "d6bbc193",
      "metadata": {
        "id": "d6bbc193"
      },
      "source": [
        "While your MSE seems too large, it is reasonable given the targets in the dataset (the targets are in 10s of thousands). 37M in MSE means that on average, the error is in the range of 6k. This is not ideal, but it is reasonable. The performance is improved with data preprocessing and normalization. The plot below shows how the predictions vary from the actual targets."
      ]
    },
    {
      "cell_type": "code",
      "execution_count": null,
      "id": "7c197848",
      "metadata": {
        "id": "7c197848",
        "outputId": "91dcf580-2234-4886-8adf-17ce405d1b9c"
      },
      "outputs": [
        {
          "data": {
            "image/png": "[encoded data removed]",
            "text/plain": [
              "<Figure size 800x400 with 1 Axes>"
            ]
          },
          "metadata": {},
          "output_type": "display_data"
        }
      ],
      "source": [
        "# Plot actual vs. predicted values for Decision Tree\n",
        "plt.figure(figsize=(8, 4))\n",
        "plt.scatter(y_test, lr_predictions, color='green', label='LinearRegression')\n",
        "plt.plot([min(y_test), max(y_test)], [min(y_test), max(y_test)], color='red', linestyle='--')\n",
        "plt.title('Linear Regression: Actual vs. Predicted')\n",
        "plt.xlabel('Actual')\n",
        "plt.ylabel('Predicted')\n",
        "plt.legend()\n",
        "plt.show()"
      ]
    },
    {
      "cell_type": "markdown",
      "id": "f2c0f19c",
      "metadata": {
        "id": "f2c0f19c"
      },
      "source": [
        "# Question 2"
      ]
    },
    {
      "cell_type": "code",
      "execution_count": null,
      "id": "d21faec0",
      "metadata": {
        "id": "d21faec0"
      },
      "outputs": [],
      "source": [
        "import numpy as np\n",
        "import pandas as pd\n",
        "import matplotlib.pyplot as plt\n",
        "from sklearn.linear_model import LogisticRegression\n",
        "from sklearn.preprocessing import LabelEncoder\n",
        "from sklearn.model_selection import train_test_split\n",
        "from sklearn.metrics import classification_report"
      ]
    },
    {
      "cell_type": "code",
      "execution_count": null,
      "id": "7444994d",
      "metadata": {
        "id": "7444994d",
        "outputId": "96717ba4-f945-46d5-8def-269e2ae1efcc"
      },
      "outputs": [
        {
          "data": {
            "text/html": [
              "<div>\n",
              "<style scoped>\n",
              "    .dataframe tbody tr th:only-of-type {\n",
              "        vertical-align: middle;\n",
              "    }\n",
              "\n",
              "    .dataframe tbody tr th {\n",
              "        vertical-align: top;\n",
              "    }\n",
              "\n",
              "    .dataframe thead th {\n",
              "        text-align: right;\n",
              "    }\n",
              "</style>\n",
              "<table border=\"1\" class=\"dataframe\">\n",
              "  <thead>\n",
              "    <tr style=\"text-align: right;\">\n",
              "      <th></th>\n",
              "      <th>GENDER</th>\n",
              "      <th>AGE</th>\n",
              "      <th>SMOKING</th>\n",
              "      <th>YELLOW_FINGERS</th>\n",
              "      <th>ANXIETY</th>\n",
              "      <th>PEER_PRESSURE</th>\n",
              "      <th>CHRONIC DISEASE</th>\n",
              "      <th>FATIGUE</th>\n",
              "      <th>ALLERGY</th>\n",
              "      <th>WHEEZING</th>\n",
              "      <th>ALCOHOL CONSUMING</th>\n",
              "      <th>COUGHING</th>\n",
              "      <th>SHORTNESS OF BREATH</th>\n",
              "      <th>SWALLOWING DIFFICULTY</th>\n",
              "      <th>CHEST PAIN</th>\n",
              "      <th>LUNG_CANCER</th>\n",
              "    </tr>\n",
              "  </thead>\n",
              "  <tbody>\n",
              "    <tr>\n",
              "      <th>0</th>\n",
              "      <td>M</td>\n",
              "      <td>69</td>\n",
              "      <td>1</td>\n",
              "      <td>2</td>\n",
              "      <td>2</td>\n",
              "      <td>1</td>\n",
              "      <td>1</td>\n",
              "      <td>2</td>\n",
              "      <td>1</td>\n",
              "      <td>2</td>\n",
              "      <td>2</td>\n",
              "      <td>2</td>\n",
              "      <td>2</td>\n",
              "      <td>2</td>\n",
              "      <td>2</td>\n",
              "      <td>YES</td>\n",
              "    </tr>\n",
              "    <tr>\n",
              "      <th>1</th>\n",
              "      <td>M</td>\n",
              "      <td>74</td>\n",
              "      <td>2</td>\n",
              "      <td>1</td>\n",
              "      <td>1</td>\n",
              "      <td>1</td>\n",
              "      <td>2</td>\n",
              "      <td>2</td>\n",
              "      <td>2</td>\n",
              "      <td>1</td>\n",
              "      <td>1</td>\n",
              "      <td>1</td>\n",
              "      <td>2</td>\n",
              "      <td>2</td>\n",
              "      <td>2</td>\n",
              "      <td>YES</td>\n",
              "    </tr>\n",
              "    <tr>\n",
              "      <th>2</th>\n",
              "      <td>F</td>\n",
              "      <td>59</td>\n",
              "      <td>1</td>\n",
              "      <td>1</td>\n",
              "      <td>1</td>\n",
              "      <td>2</td>\n",
              "      <td>1</td>\n",
              "      <td>2</td>\n",
              "      <td>1</td>\n",
              "      <td>2</td>\n",
              "      <td>1</td>\n",
              "      <td>2</td>\n",
              "      <td>2</td>\n",
              "      <td>1</td>\n",
              "      <td>2</td>\n",
              "      <td>NO</td>\n",
              "    </tr>\n",
              "    <tr>\n",
              "      <th>3</th>\n",
              "      <td>M</td>\n",
              "      <td>63</td>\n",
              "      <td>2</td>\n",
              "      <td>2</td>\n",
              "      <td>2</td>\n",
              "      <td>1</td>\n",
              "      <td>1</td>\n",
              "      <td>1</td>\n",
              "      <td>1</td>\n",
              "      <td>1</td>\n",
              "      <td>2</td>\n",
              "      <td>1</td>\n",
              "      <td>1</td>\n",
              "      <td>2</td>\n",
              "      <td>2</td>\n",
              "      <td>NO</td>\n",
              "    </tr>\n",
              "    <tr>\n",
              "      <th>4</th>\n",
              "      <td>F</td>\n",
              "      <td>63</td>\n",
              "      <td>1</td>\n",
              "      <td>2</td>\n",
              "      <td>1</td>\n",
              "      <td>1</td>\n",
              "      <td>1</td>\n",
              "      <td>1</td>\n",
              "      <td>1</td>\n",
              "      <td>2</td>\n",
              "      <td>1</td>\n",
              "      <td>2</td>\n",
              "      <td>2</td>\n",
              "      <td>1</td>\n",
              "      <td>1</td>\n",
              "      <td>NO</td>\n",
              "    </tr>\n",
              "    <tr>\n",
              "      <th>...</th>\n",
              "      <td>...</td>\n",
              "      <td>...</td>\n",
              "      <td>...</td>\n",
              "      <td>...</td>\n",
              "      <td>...</td>\n",
              "      <td>...</td>\n",
              "      <td>...</td>\n",
              "      <td>...</td>\n",
              "      <td>...</td>\n",
              "      <td>...</td>\n",
              "      <td>...</td>\n",
              "      <td>...</td>\n",
              "      <td>...</td>\n",
              "      <td>...</td>\n",
              "      <td>...</td>\n",
              "      <td>...</td>\n",
              "    </tr>\n",
              "    <tr>\n",
              "      <th>304</th>\n",
              "      <td>F</td>\n",
              "      <td>56</td>\n",
              "      <td>1</td>\n",
              "      <td>1</td>\n",
              "      <td>1</td>\n",
              "      <td>2</td>\n",
              "      <td>2</td>\n",
              "      <td>2</td>\n",
              "      <td>1</td>\n",
              "      <td>1</td>\n",
              "      <td>2</td>\n",
              "      <td>2</td>\n",
              "      <td>2</td>\n",
              "      <td>2</td>\n",
              "      <td>1</td>\n",
              "      <td>YES</td>\n",
              "    </tr>\n",
              "    <tr>\n",
              "      <th>305</th>\n",
              "      <td>M</td>\n",
              "      <td>70</td>\n",
              "      <td>2</td>\n",
              "      <td>1</td>\n",
              "      <td>1</td>\n",
              "      <td>1</td>\n",
              "      <td>1</td>\n",
              "      <td>2</td>\n",
              "      <td>2</td>\n",
              "      <td>2</td>\n",
              "      <td>2</td>\n",
              "      <td>2</td>\n",
              "      <td>2</td>\n",
              "      <td>1</td>\n",
              "      <td>2</td>\n",
              "      <td>YES</td>\n",
              "    </tr>\n",
              "    <tr>\n",
              "      <th>306</th>\n",
              "      <td>M</td>\n",
              "      <td>58</td>\n",
              "      <td>2</td>\n",
              "      <td>1</td>\n",
              "      <td>1</td>\n",
              "      <td>1</td>\n",
              "      <td>1</td>\n",
              "      <td>1</td>\n",
              "      <td>2</td>\n",
              "      <td>2</td>\n",
              "      <td>2</td>\n",
              "      <td>2</td>\n",
              "      <td>1</td>\n",
              "      <td>1</td>\n",
              "      <td>2</td>\n",
              "      <td>YES</td>\n",
              "    </tr>\n",
              "    <tr>\n",
              "      <th>307</th>\n",
              "      <td>M</td>\n",
              "      <td>67</td>\n",
              "      <td>2</td>\n",
              "      <td>1</td>\n",
              "      <td>2</td>\n",
              "      <td>1</td>\n",
              "      <td>1</td>\n",
              "      <td>2</td>\n",
              "      <td>2</td>\n",
              "      <td>1</td>\n",
              "      <td>2</td>\n",
              "      <td>2</td>\n",
              "      <td>2</td>\n",
              "      <td>1</td>\n",
              "      <td>2</td>\n",
              "      <td>YES</td>\n",
              "    </tr>\n",
              "    <tr>\n",
              "      <th>308</th>\n",
              "      <td>M</td>\n",
              "      <td>62</td>\n",
              "      <td>1</td>\n",
              "      <td>1</td>\n",
              "      <td>1</td>\n",
              "      <td>2</td>\n",
              "      <td>1</td>\n",
              "      <td>2</td>\n",
              "      <td>2</td>\n",
              "      <td>2</td>\n",
              "      <td>2</td>\n",
              "      <td>1</td>\n",
              "      <td>1</td>\n",
              "      <td>2</td>\n",
              "      <td>1</td>\n",
              "      <td>YES</td>\n",
              "    </tr>\n",
              "  </tbody>\n",
              "</table>\n",
              "<p>309 rows × 16 columns</p>\n",
              "</div>"
            ],
            "text/plain": [
              "    GENDER  AGE  SMOKING  YELLOW_FINGERS  ANXIETY  PEER_PRESSURE  \\\n",
              "0        M   69        1               2        2              1   \n",
              "1        M   74        2               1        1              1   \n",
              "2        F   59        1               1        1              2   \n",
              "3        M   63        2               2        2              1   \n",
              "4        F   63        1               2        1              1   \n",
              "..     ...  ...      ...             ...      ...            ...   \n",
              "304      F   56        1               1        1              2   \n",
              "305      M   70        2               1        1              1   \n",
              "306      M   58        2               1        1              1   \n",
              "307      M   67        2               1        2              1   \n",
              "308      M   62        1               1        1              2   \n",
              "\n",
              "     CHRONIC DISEASE  FATIGUE   ALLERGY   WHEEZING  ALCOHOL CONSUMING  \\\n",
              "0                  1         2         1         2                  2   \n",
              "1                  2         2         2         1                  1   \n",
              "2                  1         2         1         2                  1   \n",
              "3                  1         1         1         1                  2   \n",
              "4                  1         1         1         2                  1   \n",
              "..               ...       ...       ...       ...                ...   \n",
              "304                2         2         1         1                  2   \n",
              "305                1         2         2         2                  2   \n",
              "306                1         1         2         2                  2   \n",
              "307                1         2         2         1                  2   \n",
              "308                1         2         2         2                  2   \n",
              "\n",
              "     COUGHING  SHORTNESS OF BREATH  SWALLOWING DIFFICULTY  CHEST PAIN  \\\n",
              "0           2                    2                      2           2   \n",
              "1           1                    2                      2           2   \n",
              "2           2                    2                      1           2   \n",
              "3           1                    1                      2           2   \n",
              "4           2                    2                      1           1   \n",
              "..        ...                  ...                    ...         ...   \n",
              "304         2                    2                      2           1   \n",
              "305         2                    2                      1           2   \n",
              "306         2                    1                      1           2   \n",
              "307         2                    2                      1           2   \n",
              "308         1                    1                      2           1   \n",
              "\n",
              "    LUNG_CANCER  \n",
              "0           YES  \n",
              "1           YES  \n",
              "2            NO  \n",
              "3            NO  \n",
              "4            NO  \n",
              "..          ...  \n",
              "304         YES  \n",
              "305         YES  \n",
              "306         YES  \n",
              "307         YES  \n",
              "308         YES  \n",
              "\n",
              "[309 rows x 16 columns]"
            ]
          },
          "execution_count": 13,
          "metadata": {},
          "output_type": "execute_result"
        }
      ],
      "source": [
        "df_can = pd.read_csv(\"Cancer_Dataset.csv\")\n",
        "df_can"
      ]
    },
    {
      "cell_type": "code",
      "execution_count": null,
      "id": "acb4a2e1",
      "metadata": {
        "id": "acb4a2e1",
        "outputId": "417af203-9826-4956-9156-b701106c2606"
      },
      "outputs": [
        {
          "name": "stdout",
          "output_type": "stream",
          "text": [
            "<class 'pandas.core.frame.DataFrame'>\n",
            "RangeIndex: 309 entries, 0 to 308\n",
            "Data columns (total 16 columns):\n",
            " #   Column                 Non-Null Count  Dtype \n",
            "---  ------                 --------------  ----- \n",
            " 0   GENDER                 309 non-null    object\n",
            " 1   AGE                    309 non-null    int64 \n",
            " 2   SMOKING                309 non-null    int64 \n",
            " 3   YELLOW_FINGERS         309 non-null    int64 \n",
            " 4   ANXIETY                309 non-null    int64 \n",
            " 5   PEER_PRESSURE          309 non-null    int64 \n",
            " 6   CHRONIC DISEASE        309 non-null    int64 \n",
            " 7   FATIGUE                309 non-null    int64 \n",
            " 8   ALLERGY                309 non-null    int64 \n",
            " 9   WHEEZING               309 non-null    int64 \n",
            " 10  ALCOHOL CONSUMING      309 non-null    int64 \n",
            " 11  COUGHING               309 non-null    int64 \n",
            " 12  SHORTNESS OF BREATH    309 non-null    int64 \n",
            " 13  SWALLOWING DIFFICULTY  309 non-null    int64 \n",
            " 14  CHEST PAIN             309 non-null    int64 \n",
            " 15  LUNG_CANCER            309 non-null    object\n",
            "dtypes: int64(14), object(2)\n",
            "memory usage: 38.8+ KB\n"
          ]
        }
      ],
      "source": [
        "# Summary and data types\n",
        "df_can.info()"
      ]
    },
    {
      "cell_type": "code",
      "execution_count": null,
      "id": "1d5ef359",
      "metadata": {
        "id": "1d5ef359",
        "outputId": "0dee5bb2-8d04-4356-ac18-955e9ee30307"
      },
      "outputs": [
        {
          "data": {
            "text/html": [
              "<div>\n",
              "<style scoped>\n",
              "    .dataframe tbody tr th:only-of-type {\n",
              "        vertical-align: middle;\n",
              "    }\n",
              "\n",
              "    .dataframe tbody tr th {\n",
              "        vertical-align: top;\n",
              "    }\n",
              "\n",
              "    .dataframe thead th {\n",
              "        text-align: right;\n",
              "    }\n",
              "</style>\n",
              "<table border=\"1\" class=\"dataframe\">\n",
              "  <thead>\n",
              "    <tr style=\"text-align: right;\">\n",
              "      <th></th>\n",
              "      <th>AGE</th>\n",
              "      <th>SMOKING</th>\n",
              "      <th>YELLOW_FINGERS</th>\n",
              "      <th>ANXIETY</th>\n",
              "      <th>PEER_PRESSURE</th>\n",
              "      <th>CHRONIC DISEASE</th>\n",
              "      <th>FATIGUE</th>\n",
              "      <th>ALLERGY</th>\n",
              "      <th>WHEEZING</th>\n",
              "      <th>ALCOHOL CONSUMING</th>\n",
              "      <th>COUGHING</th>\n",
              "      <th>SHORTNESS OF BREATH</th>\n",
              "      <th>SWALLOWING DIFFICULTY</th>\n",
              "      <th>CHEST PAIN</th>\n",
              "    </tr>\n",
              "  </thead>\n",
              "  <tbody>\n",
              "    <tr>\n",
              "      <th>count</th>\n",
              "      <td>309.000000</td>\n",
              "      <td>309.000000</td>\n",
              "      <td>309.000000</td>\n",
              "      <td>309.000000</td>\n",
              "      <td>309.000000</td>\n",
              "      <td>309.000000</td>\n",
              "      <td>309.000000</td>\n",
              "      <td>309.000000</td>\n",
              "      <td>309.000000</td>\n",
              "      <td>309.000000</td>\n",
              "      <td>309.000000</td>\n",
              "      <td>309.000000</td>\n",
              "      <td>309.000000</td>\n",
              "      <td>309.000000</td>\n",
              "    </tr>\n",
              "    <tr>\n",
              "      <th>mean</th>\n",
              "      <td>62.673139</td>\n",
              "      <td>1.563107</td>\n",
              "      <td>1.569579</td>\n",
              "      <td>1.498382</td>\n",
              "      <td>1.501618</td>\n",
              "      <td>1.504854</td>\n",
              "      <td>1.673139</td>\n",
              "      <td>1.556634</td>\n",
              "      <td>1.556634</td>\n",
              "      <td>1.556634</td>\n",
              "      <td>1.579288</td>\n",
              "      <td>1.640777</td>\n",
              "      <td>1.469256</td>\n",
              "      <td>1.556634</td>\n",
              "    </tr>\n",
              "    <tr>\n",
              "      <th>std</th>\n",
              "      <td>8.210301</td>\n",
              "      <td>0.496806</td>\n",
              "      <td>0.495938</td>\n",
              "      <td>0.500808</td>\n",
              "      <td>0.500808</td>\n",
              "      <td>0.500787</td>\n",
              "      <td>0.469827</td>\n",
              "      <td>0.497588</td>\n",
              "      <td>0.497588</td>\n",
              "      <td>0.497588</td>\n",
              "      <td>0.494474</td>\n",
              "      <td>0.480551</td>\n",
              "      <td>0.499863</td>\n",
              "      <td>0.497588</td>\n",
              "    </tr>\n",
              "    <tr>\n",
              "      <th>min</th>\n",
              "      <td>21.000000</td>\n",
              "      <td>1.000000</td>\n",
              "      <td>1.000000</td>\n",
              "      <td>1.000000</td>\n",
              "      <td>1.000000</td>\n",
              "      <td>1.000000</td>\n",
              "      <td>1.000000</td>\n",
              "      <td>1.000000</td>\n",
              "      <td>1.000000</td>\n",
              "      <td>1.000000</td>\n",
              "      <td>1.000000</td>\n",
              "      <td>1.000000</td>\n",
              "      <td>1.000000</td>\n",
              "      <td>1.000000</td>\n",
              "    </tr>\n",
              "    <tr>\n",
              "      <th>25%</th>\n",
              "      <td>57.000000</td>\n",
              "      <td>1.000000</td>\n",
              "      <td>1.000000</td>\n",
              "      <td>1.000000</td>\n",
              "      <td>1.000000</td>\n",
              "      <td>1.000000</td>\n",
              "      <td>1.000000</td>\n",
              "      <td>1.000000</td>\n",
              "      <td>1.000000</td>\n",
              "      <td>1.000000</td>\n",
              "      <td>1.000000</td>\n",
              "      <td>1.000000</td>\n",
              "      <td>1.000000</td>\n",
              "      <td>1.000000</td>\n",
              "    </tr>\n",
              "    <tr>\n",
              "      <th>50%</th>\n",
              "      <td>62.000000</td>\n",
              "      <td>2.000000</td>\n",
              "      <td>2.000000</td>\n",
              "      <td>1.000000</td>\n",
              "      <td>2.000000</td>\n",
              "      <td>2.000000</td>\n",
              "      <td>2.000000</td>\n",
              "      <td>2.000000</td>\n",
              "      <td>2.000000</td>\n",
              "      <td>2.000000</td>\n",
              "      <td>2.000000</td>\n",
              "      <td>2.000000</td>\n",
              "      <td>1.000000</td>\n",
              "      <td>2.000000</td>\n",
              "    </tr>\n",
              "    <tr>\n",
              "      <th>75%</th>\n",
              "      <td>69.000000</td>\n",
              "      <td>2.000000</td>\n",
              "      <td>2.000000</td>\n",
              "      <td>2.000000</td>\n",
              "      <td>2.000000</td>\n",
              "      <td>2.000000</td>\n",
              "      <td>2.000000</td>\n",
              "      <td>2.000000</td>\n",
              "      <td>2.000000</td>\n",
              "      <td>2.000000</td>\n",
              "      <td>2.000000</td>\n",
              "      <td>2.000000</td>\n",
              "      <td>2.000000</td>\n",
              "      <td>2.000000</td>\n",
              "    </tr>\n",
              "    <tr>\n",
              "      <th>max</th>\n",
              "      <td>87.000000</td>\n",
              "      <td>2.000000</td>\n",
              "      <td>2.000000</td>\n",
              "      <td>2.000000</td>\n",
              "      <td>2.000000</td>\n",
              "      <td>2.000000</td>\n",
              "      <td>2.000000</td>\n",
              "      <td>2.000000</td>\n",
              "      <td>2.000000</td>\n",
              "      <td>2.000000</td>\n",
              "      <td>2.000000</td>\n",
              "      <td>2.000000</td>\n",
              "      <td>2.000000</td>\n",
              "      <td>2.000000</td>\n",
              "    </tr>\n",
              "  </tbody>\n",
              "</table>\n",
              "</div>"
            ],
            "text/plain": [
              "              AGE     SMOKING  YELLOW_FINGERS     ANXIETY  PEER_PRESSURE  \\\n",
              "count  309.000000  309.000000      309.000000  309.000000     309.000000   \n",
              "mean    62.673139    1.563107        1.569579    1.498382       1.501618   \n",
              "std      8.210301    0.496806        0.495938    0.500808       0.500808   \n",
              "min     21.000000    1.000000        1.000000    1.000000       1.000000   \n",
              "25%     57.000000    1.000000        1.000000    1.000000       1.000000   \n",
              "50%     62.000000    2.000000        2.000000    1.000000       2.000000   \n",
              "75%     69.000000    2.000000        2.000000    2.000000       2.000000   \n",
              "max     87.000000    2.000000        2.000000    2.000000       2.000000   \n",
              "\n",
              "       CHRONIC DISEASE    FATIGUE     ALLERGY     WHEEZING  ALCOHOL CONSUMING  \\\n",
              "count       309.000000  309.000000  309.000000  309.000000         309.000000   \n",
              "mean          1.504854    1.673139    1.556634    1.556634           1.556634   \n",
              "std           0.500787    0.469827    0.497588    0.497588           0.497588   \n",
              "min           1.000000    1.000000    1.000000    1.000000           1.000000   \n",
              "25%           1.000000    1.000000    1.000000    1.000000           1.000000   \n",
              "50%           2.000000    2.000000    2.000000    2.000000           2.000000   \n",
              "75%           2.000000    2.000000    2.000000    2.000000           2.000000   \n",
              "max           2.000000    2.000000    2.000000    2.000000           2.000000   \n",
              "\n",
              "         COUGHING  SHORTNESS OF BREATH  SWALLOWING DIFFICULTY  CHEST PAIN  \n",
              "count  309.000000           309.000000             309.000000  309.000000  \n",
              "mean     1.579288             1.640777               1.469256    1.556634  \n",
              "std      0.494474             0.480551               0.499863    0.497588  \n",
              "min      1.000000             1.000000               1.000000    1.000000  \n",
              "25%      1.000000             1.000000               1.000000    1.000000  \n",
              "50%      2.000000             2.000000               1.000000    2.000000  \n",
              "75%      2.000000             2.000000               2.000000    2.000000  \n",
              "max      2.000000             2.000000               2.000000    2.000000  "
            ]
          },
          "execution_count": 15,
          "metadata": {},
          "output_type": "execute_result"
        }
      ],
      "source": [
        "# Statistics about the features and the targets\n",
        "df_can.describe()"
      ]
    },
    {
      "cell_type": "code",
      "execution_count": null,
      "id": "21389f9b",
      "metadata": {
        "id": "21389f9b",
        "outputId": "338bff1e-2ddf-4226-9fa5-b9b3ae0be528"
      },
      "outputs": [
        {
          "data": {
            "image/png": "[encoded data removed]",
            "text/plain": [
              "<Figure size 640x480 with 1 Axes>"
            ]
          },
          "metadata": {},
          "output_type": "display_data"
        },
        {
          "data": {
            "image/png": "[encoded data removed]",
            "text/plain": [
              "<Figure size 640x480 with 1 Axes>"
            ]
          },
          "metadata": {},
          "output_type": "display_data"
        },
        {
          "data": {
            "image/png": "[encoded data removed]",
            "text/plain": [
              "<Figure size 640x480 with 1 Axes>"
            ]
          },
          "metadata": {},
          "output_type": "display_data"
        },
        {
          "data": {
            "image/png": "[encoded data removed]",
            "text/plain": [
              "<Figure size 640x480 with 1 Axes>"
            ]
          },
          "metadata": {},
          "output_type": "display_data"
        }
      ],
      "source": [
        "# Attributes Distributions\n",
        "gender_count = df_can['GENDER'].value_counts()\n",
        "plt.pie(gender_count, labels=gender_count.index, autopct='%1.1f%%')\n",
        "plt.title('Distribution of GENDER')\n",
        "plt.show()\n",
        "\n",
        "smoking_labels = df_can['SMOKING'].replace({1: 'NO', 2: 'YES'})\n",
        "smoker_count = smoking_labels.value_counts()\n",
        "plt.title('Distribution of SMOKING')\n",
        "plt.pie(smoker_count, labels=smoker_count.index, autopct='%1.1f%%')\n",
        "plt.show()\n",
        "\n",
        "anxiety_labels = df_can['ANXIETY'].replace({1: 'NO', 2: 'YES'})\n",
        "anxiety_count = anxiety_labels.value_counts()\n",
        "plt.title('Distribution of ANXIETY')\n",
        "plt.pie(anxiety_count, labels=anxiety_count.index, autopct='%1.1f%%')\n",
        "plt.show()\n",
        "\n",
        "cancer_count = df_can['LUNG_CANCER'].value_counts()\n",
        "plt.pie(cancer_count, labels=cancer_count.index, autopct='%1.1f%%')\n",
        "plt.title('Distribution of LUNG_CANCER')\n",
        "plt.show()"
      ]
    },
    {
      "cell_type": "code",
      "execution_count": null,
      "id": "5c7bdb67",
      "metadata": {
        "id": "5c7bdb67",
        "outputId": "0499c470-4516-4f5b-a8d3-bbe4b51be314"
      },
      "outputs": [
        {
          "data": {
            "image/png": "[encoded data removed]",
            "text/plain": [
              "<Figure size 640x480 with 1 Axes>"
            ]
          },
          "metadata": {},
          "output_type": "display_data"
        },
        {
          "data": {
            "image/png": "[encoded data removed]",
            "text/plain": [
              "<Figure size 640x480 with 1 Axes>"
            ]
          },
          "metadata": {},
          "output_type": "display_data"
        },
        {
          "data": {
            "image/png": "[encoded data removed]",
            "text/plain": [
              "<Figure size 640x480 with 1 Axes>"
            ]
          },
          "metadata": {},
          "output_type": "display_data"
        }
      ],
      "source": [
        "# Cancer cases per attribute\n",
        "df_can_t = df_can.copy()\n",
        "df_can_t['LUNG_CANCER'] = df_can_t['LUNG_CANCER'].map({'YES': 1, 'NO': 0})\n",
        "df_can_t['SMOKING'] = df_can_t['SMOKING'].map({1: 'NO', 2:'YES'})\n",
        "df_can_t['ANXIETY'] = df_can_t['ANXIETY'].map({1: 'NO', 2:'YES'})\n",
        "\n",
        "Cancer_gender = df_can_t.groupby('GENDER')['LUNG_CANCER'].sum()\n",
        "Cancer_smoking = df_can_t.groupby('SMOKING')['LUNG_CANCER'].sum()\n",
        "Cancer_anxiety = df_can_t.groupby('ANXIETY')['LUNG_CANCER'].sum()\n",
        "\n",
        "plt.bar(Cancer_gender.index, Cancer_gender.values)\n",
        "plt.xlabel('gender')\n",
        "plt.ylabel('Total Cancer Cases')\n",
        "plt.title(\"Total cancer cases per gender\")\n",
        "plt.show()\n",
        "\n",
        "plt.bar(Cancer_smoking.index, Cancer_smoking.values)\n",
        "plt.xlabel('smoker')\n",
        "plt.ylabel('Total Cancer Cases')\n",
        "plt.title(\"Total cancer cases per gender\")\n",
        "plt.show()\n",
        "\n",
        "\n",
        "plt.bar(Cancer_anxiety.index, Cancer_anxiety.values)\n",
        "plt.xlabel('anxiety')\n",
        "plt.ylabel('Total Cancer Cases')\n",
        "plt.title(\"Total cancer cases per anxiety\")\n",
        "plt.show()"
      ]
    },
    {
      "cell_type": "code",
      "execution_count": null,
      "id": "c934457a",
      "metadata": {
        "id": "c934457a"
      },
      "outputs": [],
      "source": [
        "# Encoding data\n",
        "label_encoder = LabelEncoder()\n",
        "df_can['GENDER'] = label_encoder.fit_transform(df_can['GENDER'])\n",
        "df_can['LUNG_CANCER'] = label_encoder.fit_transform(df_can['LUNG_CANCER'])"
      ]
    },
    {
      "cell_type": "code",
      "execution_count": null,
      "id": "185d287a",
      "metadata": {
        "id": "185d287a",
        "outputId": "cbd8bef5-0196-4e4a-d5ae-32bf31adca65"
      },
      "outputs": [
        {
          "data": {
            "text/html": [
              "<style>#sk-container-id-2 {color: black;}#sk-container-id-2 pre{padding: 0;}#sk-container-id-2 div.sk-toggleable {background-color: white;}#sk-container-id-2 label.sk-toggleable__label {cursor: pointer;display: block;width: 100%;margin-bottom: 0;padding: 0.3em;box-sizing: border-box;text-align: center;}#sk-container-id-2 label.sk-toggleable__label-arrow:before {content: \"▸\";float: left;margin-right: 0.25em;color: #696969;}#sk-container-id-2 label.sk-toggleable__label-arrow:hover:before {color: black;}#sk-container-id-2 div.sk-estimator:hover label.sk-toggleable__label-arrow:before {color: black;}#sk-container-id-2 div.sk-toggleable__content {max-height: 0;max-width: 0;overflow: hidden;text-align: left;background-color: #f0f8ff;}#sk-container-id-2 div.sk-toggleable__content pre {margin: 0.2em;color: black;border-radius: 0.25em;background-color: #f0f8ff;}#sk-container-id-2 input.sk-toggleable__control:checked~div.sk-toggleable__content {max-height: 200px;max-width: 100%;overflow: auto;}#sk-container-id-2 input.sk-toggleable__control:checked~label.sk-toggleable__label-arrow:before {content: \"▾\";}#sk-container-id-2 div.sk-estimator input.sk-toggleable__control:checked~label.sk-toggleable__label {background-color: #d4ebff;}#sk-container-id-2 div.sk-label input.sk-toggleable__control:checked~label.sk-toggleable__label {background-color: #d4ebff;}#sk-container-id-2 input.sk-hidden--visually {border: 0;clip: rect(1px 1px 1px 1px);clip: rect(1px, 1px, 1px, 1px);height: 1px;margin: -1px;overflow: hidden;padding: 0;position: absolute;width: 1px;}#sk-container-id-2 div.sk-estimator {font-family: monospace;background-color: #f0f8ff;border: 1px dotted black;border-radius: 0.25em;box-sizing: border-box;margin-bottom: 0.5em;}#sk-container-id-2 div.sk-estimator:hover {background-color: #d4ebff;}#sk-container-id-2 div.sk-parallel-item::after {content: \"\";width: 100%;border-bottom: 1px solid gray;flex-grow: 1;}#sk-container-id-2 div.sk-label:hover label.sk-toggleable__label {background-color: #d4ebff;}#sk-container-id-2 div.sk-serial::before {content: \"\";position: absolute;border-left: 1px solid gray;box-sizing: border-box;top: 0;bottom: 0;left: 50%;z-index: 0;}#sk-container-id-2 div.sk-serial {display: flex;flex-direction: column;align-items: center;background-color: white;padding-right: 0.2em;padding-left: 0.2em;position: relative;}#sk-container-id-2 div.sk-item {position: relative;z-index: 1;}#sk-container-id-2 div.sk-parallel {display: flex;align-items: stretch;justify-content: center;background-color: white;position: relative;}#sk-container-id-2 div.sk-item::before, #sk-container-id-2 div.sk-parallel-item::before {content: \"\";position: absolute;border-left: 1px solid gray;box-sizing: border-box;top: 0;bottom: 0;left: 50%;z-index: -1;}#sk-container-id-2 div.sk-parallel-item {display: flex;flex-direction: column;z-index: 1;position: relative;background-color: white;}#sk-container-id-2 div.sk-parallel-item:first-child::after {align-self: flex-end;width: 50%;}#sk-container-id-2 div.sk-parallel-item:last-child::after {align-self: flex-start;width: 50%;}#sk-container-id-2 div.sk-parallel-item:only-child::after {width: 0;}#sk-container-id-2 div.sk-dashed-wrapped {border: 1px dashed gray;margin: 0 0.4em 0.5em 0.4em;box-sizing: border-box;padding-bottom: 0.4em;background-color: white;}#sk-container-id-2 div.sk-label label {font-family: monospace;font-weight: bold;display: inline-block;line-height: 1.2em;}#sk-container-id-2 div.sk-label-container {text-align: center;}#sk-container-id-2 div.sk-container {/* jupyter's `normalize.less` sets `[hidden] { display: none; }` but bootstrap.min.css set `[hidden] { display: none !important; }` so we also need the `!important` here to be able to override the default hidden behavior on the sphinx rendered scikit-learn.org. See: https://github.com/scikit-learn/scikit-learn/issues/21755 */display: inline-block !important;position: relative;}#sk-container-id-2 div.sk-text-repr-fallback {display: none;}</style><div id=\"sk-container-id-2\" class=\"sk-top-container\"><div class=\"sk-text-repr-fallback\"><pre>LogisticRegression(max_iter=1000)</pre><b>In a Jupyter environment, please rerun this cell to show the HTML representation or trust the notebook. <br />On GitHub, the HTML representation is unable to render, please try loading this page with nbviewer.org.</b></div><div class=\"sk-container\" hidden><div class=\"sk-item\"><div class=\"sk-estimator sk-toggleable\"><input class=\"sk-toggleable__control sk-hidden--visually\" id=\"sk-estimator-id-2\" type=\"checkbox\" checked><label for=\"sk-estimator-id-2\" class=\"sk-toggleable__label sk-toggleable__label-arrow\">LogisticRegression</label><div class=\"sk-toggleable__content\"><pre>LogisticRegression(max_iter=1000)</pre></div></div></div></div></div>"
            ],
            "text/plain": [
              "LogisticRegression(max_iter=1000)"
            ]
          },
          "execution_count": 19,
          "metadata": {},
          "output_type": "execute_result"
        }
      ],
      "source": [
        "# Training\n",
        "X1 = df_can.iloc[:, :-1]  # all columns except the last\n",
        "y1 = df_can.iloc[:, -1]  # only the last column\n",
        "X_train1, X_test1, y_train1, y_test1 = train_test_split(X1, y1, test_size = 0.3)\n",
        "lr_model = LogisticRegression(max_iter=1000)\n",
        "lr_model.fit(X_train1, y_train1)"
      ]
    },
    {
      "cell_type": "code",
      "execution_count": null,
      "id": "17863cd4",
      "metadata": {
        "id": "17863cd4",
        "outputId": "e463c173-425d-4d5a-a4cb-c76d1f3fb9a6"
      },
      "outputs": [
        {
          "name": "stdout",
          "output_type": "stream",
          "text": [
            "Training Results: \n",
            "               precision    recall  f1-score   support\n",
            "\n",
            "          NO       0.82      0.62      0.71        29\n",
            "         YES       0.94      0.98      0.96       187\n",
            "\n",
            "    accuracy                           0.93       216\n",
            "   macro avg       0.88      0.80      0.83       216\n",
            "weighted avg       0.93      0.93      0.93       216\n",
            "\n",
            "Testing Results : \n",
            "               precision    recall  f1-score   support\n",
            "\n",
            "          NO       0.50      0.20      0.29        10\n",
            "         YES       0.91      0.98      0.94        83\n",
            "\n",
            "    accuracy                           0.89        93\n",
            "   macro avg       0.71      0.59      0.61        93\n",
            "weighted avg       0.87      0.89      0.87        93\n",
            "\n"
          ]
        }
      ],
      "source": [
        "lr_predictions = lr_model.predict(X_test1)\n",
        "lr_predictions_tr = lr_model.predict(X_train1)\n",
        "target_names = ['NO', 'YES']\n",
        "print(\"Training Results: \\n\", classification_report(y_train1, lr_predictions_tr, target_names = target_names))\n",
        "print(\"Testing Results : \\n\", classification_report(y_test1, lr_predictions, target_names = target_names))"
      ]
    },
    {
      "cell_type": "markdown",
      "id": "630a9d45",
      "metadata": {
        "id": "630a9d45"
      },
      "source": [
        "# Question 3"
      ]
    },
    {
      "cell_type": "markdown",
      "id": "0f096425",
      "metadata": {
        "id": "0f096425"
      },
      "source": [
        "Insurance Prediction"
      ]
    },
    {
      "cell_type": "code",
      "execution_count": null,
      "id": "2fbd448e",
      "metadata": {
        "id": "2fbd448e"
      },
      "outputs": [],
      "source": [
        "import torch\n",
        "import torch.nn as nn\n",
        "import torch.optim as optim\n",
        "import numpy as np\n",
        "import torch.nn.functional as F\n",
        "from torch.utils.data import Dataset, DataLoader\n"
      ]
    },
    {
      "cell_type": "code",
      "execution_count": null,
      "id": "ebe07d57",
      "metadata": {
        "id": "ebe07d57"
      },
      "outputs": [],
      "source": [
        "# Neural Network for the Insurance Regression (many possible solutions)\n",
        "class Net(nn.Module):\n",
        "    def __init__(self, input_dim):\n",
        "        super(Net, self).__init__()\n",
        "        self.fc1 = nn.Linear(input_dim, 128)\n",
        "        self.fc2 = nn.Linear(128, 256)\n",
        "        self.fc3 = nn.Linear(256, 1)\n",
        "\n",
        "    def forward(self, x):\n",
        "        x = F.relu(self.fc1(x))\n",
        "        x = F.relu(self.fc2(x))\n",
        "        x = self.fc3(x)\n",
        "        return x"
      ]
    },
    {
      "cell_type": "code",
      "execution_count": null,
      "id": "788cc788",
      "metadata": {
        "id": "788cc788"
      },
      "outputs": [],
      "source": [
        "# Convert from Pandas DataFrame to NumPy arrays\n",
        "X = X.values\n",
        "y = y.values.reshape(-1, 1)  # reshaping target to ensure it's a 2D array\n",
        "\n",
        "# Split the dataset into training and testing sets\n",
        "X_train, X_test, y_train, y_test = train_test_split(X, y, test_size=0.3)"
      ]
    },
    {
      "cell_type": "code",
      "execution_count": null,
      "id": "67c3cf86",
      "metadata": {
        "id": "67c3cf86"
      },
      "outputs": [],
      "source": [
        "# Convert arrays to PyTorch tensors\n",
        "X_train = torch.tensor(X_train, dtype=torch.float32)\n",
        "y_train = torch.tensor(y_train, dtype=torch.float32)\n",
        "X_test = torch.tensor(X_test, dtype=torch.float32)\n",
        "y_test = torch.tensor(y_test, dtype=torch.float32)"
      ]
    },
    {
      "cell_type": "code",
      "execution_count": null,
      "id": "4d7f56e4",
      "metadata": {
        "id": "4d7f56e4"
      },
      "outputs": [],
      "source": [
        "# creating a dataset object is good when dealing with pytorch\n",
        "class CustomDataset(Dataset):\n",
        "    def __init__(self, features, targets):\n",
        "        self.features = features\n",
        "        self.targets = targets\n",
        "\n",
        "    def __len__(self):\n",
        "        return len(self.features)\n",
        "\n",
        "    def __getitem__(self, idx):\n",
        "        return self.features[idx], self.targets[idx]\n",
        "\n",
        "\n",
        "# Create the dataset objects\n",
        "train_dataset = CustomDataset(features=X_train, targets=y_train)\n",
        "test_dataset = CustomDataset(features=X_test, targets=y_test)\n",
        "\n",
        "# Create loaders\n",
        "train_loader = DataLoader(dataset=train_dataset, batch_size=16, shuffle=True)\n",
        "test_loader = DataLoader(dataset=test_dataset, batch_size=16, shuffle=False)"
      ]
    },
    {
      "cell_type": "code",
      "execution_count": null,
      "id": "55a93923",
      "metadata": {
        "id": "55a93923"
      },
      "outputs": [],
      "source": [
        "input_dim = df_ins.shape[1] - 1\n",
        "model = Net(input_dim=input_dim)\n",
        "criterion = nn.MSELoss()\n",
        "optimizer = optim.Adam(model.parameters(), lr=0.001)"
      ]
    },
    {
      "cell_type": "code",
      "execution_count": null,
      "id": "52bffd0c",
      "metadata": {
        "id": "52bffd0c",
        "outputId": "091f5d7b-269c-4b7b-91e7-bdfa52a09394"
      },
      "outputs": [
        {
          "name": "stderr",
          "output_type": "stream",
          "text": [
            "/Users/ahmedalagha/miniconda3/envs/RL/lib/python3.10/site-packages/torch/optim/optimizer.py:243: UserWarning: 'has_cuda' is deprecated, please use 'torch.backends.cuda.is_built()'\n",
            "  if not is_compiling() and torch.has_cuda and torch.cuda.is_available():\n"
          ]
        },
        {
          "name": "stdout",
          "output_type": "stream",
          "text": [
            "Epoch [10/1000], Loss: 188556016.0000\n",
            "Epoch [20/1000], Loss: 131718176.0000\n",
            "Epoch [30/1000], Loss: 95132416.0000\n",
            "Epoch [40/1000], Loss: 93213504.0000\n",
            "Epoch [50/1000], Loss: 90232768.0000\n",
            "Epoch [60/1000], Loss: 33172424.0000\n",
            "Epoch [70/1000], Loss: 80471968.0000\n",
            "Epoch [80/1000], Loss: 21397698.0000\n",
            "Epoch [90/1000], Loss: 61570792.0000\n",
            "Epoch [100/1000], Loss: 4202853.5000\n",
            "Epoch [110/1000], Loss: 34365376.0000\n",
            "Epoch [120/1000], Loss: 80765392.0000\n",
            "Epoch [130/1000], Loss: 62674096.0000\n",
            "Epoch [140/1000], Loss: 730723.0000\n",
            "Epoch [150/1000], Loss: 26799364.0000\n",
            "Epoch [160/1000], Loss: 5803819.0000\n",
            "Epoch [170/1000], Loss: 53073116.0000\n",
            "Epoch [180/1000], Loss: 40252128.0000\n",
            "Epoch [190/1000], Loss: 27795932.0000\n",
            "Epoch [200/1000], Loss: 63698504.0000\n",
            "Epoch [210/1000], Loss: 46478764.0000\n",
            "Epoch [220/1000], Loss: 3538335.5000\n",
            "Epoch [230/1000], Loss: 20451838.0000\n",
            "Epoch [240/1000], Loss: 15889610.0000\n",
            "Epoch [250/1000], Loss: 13201212.0000\n",
            "Epoch [260/1000], Loss: 19412698.0000\n",
            "Epoch [270/1000], Loss: 45718204.0000\n",
            "Epoch [280/1000], Loss: 26225996.0000\n",
            "Epoch [290/1000], Loss: 1482992.1250\n",
            "Epoch [300/1000], Loss: 7834090.0000\n",
            "Epoch [310/1000], Loss: 20991804.0000\n",
            "Epoch [320/1000], Loss: 6446366.0000\n",
            "Epoch [330/1000], Loss: 30258332.0000\n",
            "Epoch [340/1000], Loss: 16900894.0000\n",
            "Epoch [350/1000], Loss: 12693717.0000\n",
            "Epoch [360/1000], Loss: 6981864.0000\n",
            "Epoch [370/1000], Loss: 24090652.0000\n",
            "Epoch [380/1000], Loss: 22364160.0000\n",
            "Epoch [390/1000], Loss: 40188400.0000\n",
            "Epoch [400/1000], Loss: 12593456.0000\n",
            "Epoch [410/1000], Loss: 51882992.0000\n",
            "Epoch [420/1000], Loss: 17929026.0000\n",
            "Epoch [430/1000], Loss: 1611102.0000\n",
            "Epoch [440/1000], Loss: 936898.6250\n",
            "Epoch [450/1000], Loss: 32689536.0000\n",
            "Epoch [460/1000], Loss: 15197339.0000\n",
            "Epoch [470/1000], Loss: 8084671.5000\n",
            "Epoch [480/1000], Loss: 17472090.0000\n",
            "Epoch [490/1000], Loss: 1194042.3750\n",
            "Epoch [500/1000], Loss: 18509216.0000\n",
            "Epoch [510/1000], Loss: 36180992.0000\n",
            "Epoch [520/1000], Loss: 56544096.0000\n",
            "Epoch [530/1000], Loss: 22362944.0000\n",
            "Epoch [540/1000], Loss: 12026697.0000\n",
            "Epoch [550/1000], Loss: 33092758.0000\n",
            "Epoch [560/1000], Loss: 54348400.0000\n",
            "Epoch [570/1000], Loss: 45483360.0000\n",
            "Epoch [580/1000], Loss: 7635067.0000\n",
            "Epoch [590/1000], Loss: 46052836.0000\n",
            "Epoch [600/1000], Loss: 31700442.0000\n",
            "Epoch [610/1000], Loss: 1714454.7500\n",
            "Epoch [620/1000], Loss: 43791208.0000\n",
            "Epoch [630/1000], Loss: 61407476.0000\n",
            "Epoch [640/1000], Loss: 10069134.0000\n",
            "Epoch [650/1000], Loss: 5501582.0000\n",
            "Epoch [660/1000], Loss: 80706376.0000\n",
            "Epoch [670/1000], Loss: 30465614.0000\n",
            "Epoch [680/1000], Loss: 29173710.0000\n",
            "Epoch [690/1000], Loss: 803341.8750\n",
            "Epoch [700/1000], Loss: 13125811.0000\n",
            "Epoch [710/1000], Loss: 6929902.0000\n",
            "Epoch [720/1000], Loss: 7786778.0000\n",
            "Epoch [730/1000], Loss: 906567.7500\n",
            "Epoch [740/1000], Loss: 11898421.0000\n",
            "Epoch [750/1000], Loss: 19605284.0000\n",
            "Epoch [760/1000], Loss: 24043044.0000\n",
            "Epoch [770/1000], Loss: 12296945.0000\n",
            "Epoch [780/1000], Loss: 3958349.2500\n",
            "Epoch [790/1000], Loss: 4709369.5000\n",
            "Epoch [800/1000], Loss: 8751079.0000\n",
            "Epoch [810/1000], Loss: 38195904.0000\n",
            "Epoch [820/1000], Loss: 111159776.0000\n",
            "Epoch [830/1000], Loss: 40705452.0000\n",
            "Epoch [840/1000], Loss: 12643741.0000\n",
            "Epoch [850/1000], Loss: 1882927.2500\n",
            "Epoch [860/1000], Loss: 6035676.0000\n",
            "Epoch [870/1000], Loss: 1911025.8750\n",
            "Epoch [880/1000], Loss: 2275292.2500\n",
            "Epoch [890/1000], Loss: 7470631.0000\n",
            "Epoch [900/1000], Loss: 3893217.0000\n",
            "Epoch [910/1000], Loss: 32644464.0000\n",
            "Epoch [920/1000], Loss: 9056191.0000\n",
            "Epoch [930/1000], Loss: 32364872.0000\n",
            "Epoch [940/1000], Loss: 10493149.0000\n",
            "Epoch [950/1000], Loss: 10934717.0000\n",
            "Epoch [960/1000], Loss: 41614660.0000\n",
            "Epoch [970/1000], Loss: 58765320.0000\n",
            "Epoch [980/1000], Loss: 112197120.0000\n",
            "Epoch [990/1000], Loss: 72712800.0000\n",
            "Epoch [1000/1000], Loss: 504499.1875\n"
          ]
        }
      ],
      "source": [
        "num_epochs = 1000\n",
        "for epoch in range(num_epochs):\n",
        "    model.train()  # Set the model to training mode\n",
        "    for batch_idx, (features, targets) in enumerate(train_loader):\n",
        "        # Forward pass\n",
        "        outputs = model(features)\n",
        "        loss = criterion(outputs, targets)\n",
        "\n",
        "        # Backward and optimize\n",
        "        optimizer.zero_grad()\n",
        "        loss.backward()\n",
        "        optimizer.step()\n",
        "\n",
        "    # Track and print loss\n",
        "    if (epoch+1) % 10 == 0:\n",
        "        print(f'Epoch [{epoch+1}/{num_epochs}], Loss: {loss.item():.4f}')\n",
        "\n",
        "# Optional: Save model checkpoints, validate the model, etc."
      ]
    },
    {
      "cell_type": "code",
      "execution_count": null,
      "id": "fb57db50",
      "metadata": {
        "id": "fb57db50"
      },
      "outputs": [],
      "source": [
        "model.eval()\n",
        "test_loss = 0.0\n",
        "actuals = []\n",
        "predictions = []\n",
        "with torch.no_grad():\n",
        "    for batch_idx, (data, target) in enumerate(test_loader):\n",
        "        output = model(data)\n",
        "        loss = criterion(output, target)\n",
        "        test_loss += loss.item() * data.size(0)\n",
        "\n",
        "        # Convert the model output and target from tensors to lists\n",
        "        actuals.extend(target.view_as(output).cpu().numpy())\n",
        "        predictions.extend(output.cpu().numpy())"
      ]
    },
    {
      "cell_type": "code",
      "execution_count": null,
      "id": "252c223e",
      "metadata": {
        "id": "252c223e",
        "outputId": "c12967ba-dd7e-472e-9972-5a9755884b6f"
      },
      "outputs": [
        {
          "name": "stdout",
          "output_type": "stream",
          "text": [
            "Testing  mean squared error:  34671666.50575931\n"
          ]
        }
      ],
      "source": [
        "nn_mse = mean_squared_error(y_test, predictions)\n",
        "\n",
        "print(\"Testing  mean squared error: \", lr_mse_tr)"
      ]
    },
    {
      "cell_type": "markdown",
      "id": "bc3ebb0c",
      "metadata": {
        "id": "bc3ebb0c"
      },
      "source": [
        "The performance of the NN is similar to that of the Linear Regression. The performance could be further enhanced with data preprocessing."
      ]
    },
    {
      "cell_type": "markdown",
      "id": "1b061087",
      "metadata": {
        "id": "1b061087"
      },
      "source": [
        "Lung Cancer Classification:"
      ]
    },
    {
      "cell_type": "code",
      "execution_count": null,
      "id": "8fa3de91",
      "metadata": {
        "id": "8fa3de91"
      },
      "outputs": [],
      "source": [
        "# Neural Network for the Insurance Regression (many possible solutions)\n",
        "class Net(nn.Module):\n",
        "    def __init__(self, input_dim):\n",
        "        super(Net, self).__init__()\n",
        "        self.fc1 = nn.Linear(input_dim, 128)\n",
        "        self.fc2 = nn.Linear(128, 256)\n",
        "        self.fc3 = nn.Linear(256, 1) # one output representing the probability of class '1', the other class is simply 1 - probability.\n",
        "\n",
        "    def forward(self, x):\n",
        "        x = F.relu(self.fc1(x))\n",
        "        x = F.relu(self.fc2(x))\n",
        "        # x = F.relu(self.fc3(x))\n",
        "        x = self.fc3(x)\n",
        "        return x"
      ]
    },
    {
      "cell_type": "code",
      "execution_count": null,
      "id": "dcbadab1",
      "metadata": {
        "id": "dcbadab1"
      },
      "outputs": [],
      "source": [
        "# Convert from Pandas DataFrame to NumPy arrays\n",
        "X1 = X1.values\n",
        "y1 = y1.values.reshape(-1, 1)  # reshaping target to ensure it's a 2D array\n",
        "\n",
        "# Split the dataset into training and testing sets\n",
        "X_train1, X_test1, y_train1, y_test1 = train_test_split(X1, y1, test_size=0.3)"
      ]
    },
    {
      "cell_type": "code",
      "execution_count": null,
      "id": "e92a521c",
      "metadata": {
        "id": "e92a521c"
      },
      "outputs": [],
      "source": [
        "# Convert arrays to PyTorch tensors\n",
        "X_train1 = torch.tensor(X_train1, dtype=torch.float32)\n",
        "y_train1 = torch.tensor(y_train1, dtype=torch.float32)\n",
        "X_test1 = torch.tensor(X_test1, dtype=torch.float32)\n",
        "y_test1 = torch.tensor(y_test1, dtype=torch.float32)"
      ]
    },
    {
      "cell_type": "code",
      "execution_count": null,
      "id": "d9cf0087",
      "metadata": {
        "id": "d9cf0087"
      },
      "outputs": [],
      "source": [
        "# creating a dataset object is good when dealing with pytorch\n",
        "class CustomDataset(Dataset):\n",
        "    def __init__(self, features, targets):\n",
        "        self.features = features\n",
        "        self.targets = targets\n",
        "\n",
        "    def __len__(self):\n",
        "        return len(self.features)\n",
        "\n",
        "    def __getitem__(self, idx):\n",
        "        return self.features[idx], self.targets[idx]\n",
        "\n",
        "\n",
        "# Create the dataset objects\n",
        "train_dataset1 = CustomDataset(features=X_train1, targets=y_train1)\n",
        "test_dataset1 = CustomDataset(features=X_test1, targets=y_test1)\n",
        "\n",
        "# Create loaders\n",
        "train_loader1 = DataLoader(dataset=train_dataset1, batch_size=16, shuffle=True)\n",
        "test_loader1 = DataLoader(dataset=test_dataset1, batch_size=16, shuffle=False)"
      ]
    },
    {
      "cell_type": "code",
      "execution_count": null,
      "id": "96e37919",
      "metadata": {
        "id": "96e37919"
      },
      "outputs": [],
      "source": [
        "input_dim = df_can.shape[1] - 1\n",
        "model = Net(input_dim)\n",
        "criterion = nn.BCEWithLogitsLoss()\n",
        "optimizer = optim.Adam(model.parameters(), lr=0.001)"
      ]
    },
    {
      "cell_type": "code",
      "execution_count": null,
      "id": "cf7ebe2e",
      "metadata": {
        "id": "cf7ebe2e",
        "outputId": "57756d21-9c0d-47dd-b4ea-e12df75872b6"
      },
      "outputs": [
        {
          "name": "stdout",
          "output_type": "stream",
          "text": [
            "Epoch [10/1000], Loss: 0.3781\n",
            "Epoch [20/1000], Loss: 0.1994\n",
            "Epoch [30/1000], Loss: 0.2589\n"
          ]
        },
        {
          "name": "stderr",
          "output_type": "stream",
          "text": [
            "/Users/ahmedalagha/miniconda3/envs/RL/lib/python3.10/site-packages/torch/optim/optimizer.py:243: UserWarning: 'has_cuda' is deprecated, please use 'torch.backends.cuda.is_built()'\n",
            "  if not is_compiling() and torch.has_cuda and torch.cuda.is_available():\n"
          ]
        },
        {
          "name": "stdout",
          "output_type": "stream",
          "text": [
            "Epoch [40/1000], Loss: 0.4957\n",
            "Epoch [50/1000], Loss: 0.3940\n",
            "Epoch [60/1000], Loss: 0.2252\n",
            "Epoch [70/1000], Loss: 0.1441\n",
            "Epoch [80/1000], Loss: 0.4021\n",
            "Epoch [90/1000], Loss: 0.1137\n",
            "Epoch [100/1000], Loss: 0.0372\n",
            "Epoch [110/1000], Loss: 0.0598\n",
            "Epoch [120/1000], Loss: 0.2043\n",
            "Epoch [130/1000], Loss: 0.1748\n",
            "Epoch [140/1000], Loss: 0.2270\n",
            "Epoch [150/1000], Loss: 0.2128\n",
            "Epoch [160/1000], Loss: 0.0061\n",
            "Epoch [170/1000], Loss: 0.1693\n",
            "Epoch [180/1000], Loss: 0.0123\n",
            "Epoch [190/1000], Loss: 0.6802\n",
            "Epoch [200/1000], Loss: 0.0747\n",
            "Epoch [210/1000], Loss: 0.2990\n",
            "Epoch [220/1000], Loss: 0.9043\n",
            "Epoch [230/1000], Loss: 0.1197\n",
            "Epoch [240/1000], Loss: 0.2213\n",
            "Epoch [250/1000], Loss: 0.2410\n",
            "Epoch [260/1000], Loss: 0.1409\n",
            "Epoch [270/1000], Loss: 0.1993\n",
            "Epoch [280/1000], Loss: 0.0267\n",
            "Epoch [290/1000], Loss: 0.1830\n",
            "Epoch [300/1000], Loss: 0.0338\n",
            "Epoch [310/1000], Loss: 0.0987\n",
            "Epoch [320/1000], Loss: 0.2767\n",
            "Epoch [330/1000], Loss: 0.0648\n",
            "Epoch [340/1000], Loss: 0.0399\n",
            "Epoch [350/1000], Loss: 0.4299\n",
            "Epoch [360/1000], Loss: 0.0282\n",
            "Epoch [370/1000], Loss: 0.1839\n",
            "Epoch [380/1000], Loss: 0.0004\n",
            "Epoch [390/1000], Loss: 0.1580\n",
            "Epoch [400/1000], Loss: 0.0178\n",
            "Epoch [410/1000], Loss: 0.1167\n",
            "Epoch [420/1000], Loss: 0.0297\n",
            "Epoch [430/1000], Loss: 0.2279\n",
            "Epoch [440/1000], Loss: 0.0258\n",
            "Epoch [450/1000], Loss: 0.0423\n",
            "Epoch [460/1000], Loss: 0.1041\n",
            "Epoch [470/1000], Loss: 0.3044\n",
            "Epoch [480/1000], Loss: 0.0139\n",
            "Epoch [490/1000], Loss: 0.0142\n",
            "Epoch [500/1000], Loss: 0.4047\n",
            "Epoch [510/1000], Loss: 0.1082\n",
            "Epoch [520/1000], Loss: 0.2043\n",
            "Epoch [530/1000], Loss: 0.3354\n",
            "Epoch [540/1000], Loss: 0.0001\n",
            "Epoch [550/1000], Loss: 0.0033\n",
            "Epoch [560/1000], Loss: 0.0057\n",
            "Epoch [570/1000], Loss: 0.0301\n",
            "Epoch [580/1000], Loss: 0.1148\n",
            "Epoch [590/1000], Loss: 0.1398\n",
            "Epoch [600/1000], Loss: 0.0024\n",
            "Epoch [610/1000], Loss: 0.0118\n",
            "Epoch [620/1000], Loss: 0.1972\n",
            "Epoch [630/1000], Loss: 0.0247\n",
            "Epoch [640/1000], Loss: 0.0005\n",
            "Epoch [650/1000], Loss: 0.0315\n",
            "Epoch [660/1000], Loss: 0.0034\n",
            "Epoch [670/1000], Loss: 0.0406\n",
            "Epoch [680/1000], Loss: 0.0008\n",
            "Epoch [690/1000], Loss: 0.1665\n",
            "Epoch [700/1000], Loss: 0.0157\n",
            "Epoch [710/1000], Loss: 0.0040\n",
            "Epoch [720/1000], Loss: 0.0070\n",
            "Epoch [730/1000], Loss: 0.1319\n",
            "Epoch [740/1000], Loss: 0.0160\n",
            "Epoch [750/1000], Loss: 0.0928\n",
            "Epoch [760/1000], Loss: 0.0012\n",
            "Epoch [770/1000], Loss: 0.0051\n",
            "Epoch [780/1000], Loss: 0.0353\n",
            "Epoch [790/1000], Loss: 0.0203\n",
            "Epoch [800/1000], Loss: 0.0059\n",
            "Epoch [810/1000], Loss: 0.0011\n",
            "Epoch [820/1000], Loss: 0.0016\n",
            "Epoch [830/1000], Loss: 0.0246\n",
            "Epoch [840/1000], Loss: 0.0139\n",
            "Epoch [850/1000], Loss: 0.0000\n",
            "Epoch [860/1000], Loss: 0.0002\n",
            "Epoch [870/1000], Loss: 0.0099\n",
            "Epoch [880/1000], Loss: 0.0087\n",
            "Epoch [890/1000], Loss: 0.0013\n",
            "Epoch [900/1000], Loss: 0.0030\n",
            "Epoch [910/1000], Loss: 0.0054\n",
            "Epoch [920/1000], Loss: 0.0016\n",
            "Epoch [930/1000], Loss: 0.0666\n",
            "Epoch [940/1000], Loss: 0.0013\n",
            "Epoch [950/1000], Loss: 0.0011\n",
            "Epoch [960/1000], Loss: 0.0979\n",
            "Epoch [970/1000], Loss: 0.0275\n",
            "Epoch [980/1000], Loss: 0.0008\n",
            "Epoch [990/1000], Loss: 0.0007\n",
            "Epoch [1000/1000], Loss: 0.2364\n"
          ]
        }
      ],
      "source": [
        "num_epochs = 1000\n",
        "model.train()  # Set the model to training mode\n",
        "predicted_labels_tr = []\n",
        "true_labels_tr = []\n",
        "for epoch in range(num_epochs):\n",
        "    running_loss = 0.0\n",
        "    correct_predictions = 0\n",
        "    total_predictions = 0\n",
        "\n",
        "    for batch_idx, (features, targets) in enumerate(train_loader1):\n",
        "        # Forward pass\n",
        "        outputs = model(features)\n",
        "\n",
        "        loss = criterion(outputs, targets.float())\n",
        "\n",
        "\n",
        "        # For binary classification, as in your case, we need to convert output probabilities to binary class (0 or 1)\n",
        "        predictions = torch.round(torch.sigmoid(outputs.squeeze()))  # Sigmoid to get the probabilities and round to get the class\n",
        "\n",
        "        true_labels_tr += targets.tolist()\n",
        "        predicted_labels_tr += predictions.tolist()\n",
        "\n",
        "        # Backward and optimize\n",
        "        optimizer.zero_grad()\n",
        "        loss.backward()\n",
        "        optimizer.step()\n",
        "\n",
        "    # Track and print loss\n",
        "    if (epoch+1) % 10 == 0:\n",
        "        print(f'Epoch [{epoch+1}/{num_epochs}], Loss: {loss.item():.4f}')\n"
      ]
    },
    {
      "cell_type": "code",
      "execution_count": null,
      "id": "7caf1023",
      "metadata": {
        "id": "7caf1023",
        "outputId": "ba4e3767-ade0-4f5c-c69a-e73fea78cac9"
      },
      "outputs": [
        {
          "name": "stdout",
          "output_type": "stream",
          "text": [
            "Training Report: \n",
            "               precision    recall  f1-score   support\n",
            "\n",
            "     Class 0       0.89      0.77      0.83     31000\n",
            "     Class 1       0.96      0.98      0.97    185000\n",
            "\n",
            "    accuracy                           0.95    216000\n",
            "   macro avg       0.93      0.88      0.90    216000\n",
            "weighted avg       0.95      0.95      0.95    216000\n",
            "\n",
            "Testing Report: \n",
            "               precision    recall  f1-score   support\n",
            "\n",
            "     Class 0       0.50      0.75      0.60         8\n",
            "     Class 1       0.98      0.93      0.95        85\n",
            "\n",
            "    accuracy                           0.91        93\n",
            "   macro avg       0.74      0.84      0.78        93\n",
            "weighted avg       0.93      0.91      0.92        93\n",
            "\n"
          ]
        }
      ],
      "source": [
        "model.eval()  # Set the model to evaluation mode\n",
        "true_labels = []\n",
        "predicted_labels = []\n",
        "\n",
        "for batch in test_loader1:\n",
        "    inputs, labels = batch\n",
        "    outputs = model(inputs)\n",
        "\n",
        "    # For binary classification, as in your case, we need to convert output probabilities to binary class (0 or 1)\n",
        "    predictions = torch.round(torch.sigmoid(outputs.squeeze()))  # Sigmoid to get the probabilities and round to get the class\n",
        "\n",
        "    true_labels += labels.tolist()\n",
        "    predicted_labels += predictions.tolist()\n",
        "\n",
        "# Convert lists to NumPy arrays as sklearn works with NumPy arrays or list not with tensors\n",
        "true_labels_tr = np.array(true_labels_tr)\n",
        "predicted_labels_tr = np.array(predicted_labels_tr)\n",
        "\n",
        "true_labels = np.array(true_labels)\n",
        "predicted_labels = np.array(predicted_labels)\n",
        "\n",
        "print(\"Training Report: \\n\",classification_report(true_labels_tr, predicted_labels_tr, target_names=['Class 0', 'Class 1']))\n",
        "\n",
        "print(\"Testing Report: \\n\", classification_report(true_labels, predicted_labels, target_names=['Class 0', 'Class 1']))\n"
      ]
    },
    {
      "cell_type": "markdown",
      "id": "a156845e",
      "metadata": {
        "id": "a156845e"
      },
      "source": [
        "The performance is similar to Logistic Regression. It can be seen that the training accuracy is higher, indicating possible overfitting."
      ]
    },
    {
      "cell_type": "markdown",
      "id": "52d5d6fe",
      "metadata": {
        "id": "52d5d6fe"
      },
      "source": [
        "# Question 4"
      ]
    },
    {
      "cell_type": "code",
      "execution_count": null,
      "id": "fbe1c4d9",
      "metadata": {
        "id": "fbe1c4d9"
      },
      "outputs": [],
      "source": [
        "import torch\n",
        "from torchvision import transforms, datasets\n",
        "from torch.utils.data import DataLoader\n",
        "import torch.nn as nn\n",
        "import torch.nn.functional as F\n",
        "import torch.optim as optim"
      ]
    },
    {
      "cell_type": "code",
      "execution_count": null,
      "id": "dd754961",
      "metadata": {
        "id": "dd754961"
      },
      "outputs": [],
      "source": [
        "# Data preprocessing and loading\n",
        "\n",
        "# Define a transform to pre-process the image data\n",
        "transform = transforms.Compose([\n",
        "    transforms.Resize(64),\n",
        "    transforms.ToTensor(),\n",
        "    transforms.Normalize(mean=[0.485, 0.456, 0.406], std=[0.229, 0.224, 0.225]),  # Standard normalization for ImageNet\n",
        "])\n",
        "\n",
        "# Load the dataset from the directory\n",
        "data_dir = 'Dataset'  # replace with the path to your dataset.\n",
        "dataset = datasets.ImageFolder(root=data_dir, transform=transform)\n",
        "\n",
        "# Split the dataset into train and test sets\n",
        "train_size = int(0.7 * len(dataset))\n",
        "test_size = len(dataset) - train_size\n",
        "train_dataset, test_dataset = torch.utils.data.random_split(dataset, [train_size, test_size])\n",
        "\n",
        "# Create loaders for the training and validation sets\n",
        "train_loader = DataLoader(train_dataset, batch_size=32, shuffle=True)\n",
        "test_loader = DataLoader(test_dataset, batch_size=32, shuffle=False)\n"
      ]
    },
    {
      "cell_type": "code",
      "execution_count": null,
      "id": "405f5f30",
      "metadata": {
        "id": "405f5f30"
      },
      "outputs": [],
      "source": [
        "class Net(nn.Module):\n",
        "    def __init__(self):\n",
        "        super().__init__()\n",
        "        self.conv1 = nn.Conv2d(3, 6, 5)\n",
        "        self.pool = nn.MaxPool2d(2, 2)\n",
        "        self.conv2 = nn.Conv2d(6, 16, 5)\n",
        "        self.fc1 = nn.Linear(16 * 13 * 13, 120) # can you figure out how we got 13 x 13? :D\n",
        "        self.fc2 = nn.Linear(120, 84)\n",
        "        self.fc3 = nn.Linear(84, 6)\n",
        "\n",
        "    def forward(self, x):\n",
        "        x = self.pool(F.relu(self.conv1(x)))\n",
        "        x = self.pool(F.relu(self.conv2(x)))\n",
        "        x = torch.flatten(x, 1)\n",
        "        x = F.relu(self.fc1(x))\n",
        "        x = F.relu(self.fc2(x))\n",
        "        x = self.fc3(x)\n",
        "        return x\n",
        "\n",
        "\n",
        "net = Net()"
      ]
    },
    {
      "cell_type": "code",
      "execution_count": null,
      "id": "141887f8",
      "metadata": {
        "id": "141887f8"
      },
      "outputs": [],
      "source": [
        "criterion = nn.CrossEntropyLoss()\n",
        "optimizer = optim.SGD(net.parameters(), lr=0.001, momentum=0.9)"
      ]
    },
    {
      "cell_type": "code",
      "execution_count": null,
      "id": "c93c5b1c",
      "metadata": {
        "id": "c93c5b1c",
        "outputId": "f1393318-4ec3-473f-eefd-a03ec22a8044"
      },
      "outputs": [
        {
          "name": "stdout",
          "output_type": "stream",
          "text": [
            "[1,    50] loss: 1.657049, accuracy: 34.25%\n",
            "[1,   100] loss: 1.111855, accuracy: 54.69%\n",
            "[2,    50] loss: 0.610878, accuracy: 92.88%\n",
            "[2,   100] loss: 0.375437, accuracy: 95.75%\n",
            "[3,    50] loss: 0.202634, accuracy: 95.88%\n",
            "[3,   100] loss: 0.123261, accuracy: 97.06%\n",
            "[4,    50] loss: 0.111769, accuracy: 97.31%\n",
            "[4,   100] loss: 0.090716, accuracy: 97.12%\n",
            "[5,    50] loss: 0.109347, accuracy: 96.69%\n",
            "[5,   100] loss: 0.072451, accuracy: 97.69%\n",
            "[6,    50] loss: 0.062529, accuracy: 97.88%\n",
            "[6,   100] loss: 0.037697, accuracy: 98.94%\n",
            "[7,    50] loss: 0.114913, accuracy: 96.94%\n",
            "[7,   100] loss: 0.054857, accuracy: 98.19%\n",
            "[8,    50] loss: 0.040957, accuracy: 98.88%\n",
            "[8,   100] loss: 0.055006, accuracy: 98.50%\n",
            "[9,    50] loss: 0.031641, accuracy: 99.00%\n",
            "[9,   100] loss: 0.024905, accuracy: 99.25%\n",
            "[10,    50] loss: 0.022056, accuracy: 99.50%\n",
            "[10,   100] loss: 0.026574, accuracy: 99.06%\n",
            "Finished Training\n"
          ]
        }
      ],
      "source": [
        "n_epochs = 10\n",
        "\n",
        "loss_list = []\n",
        "accuracy_list = []\n",
        "\n",
        "for epoch in range(n_epochs):  # loop over the dataset multiple times\n",
        "\n",
        "    running_loss = 0.0\n",
        "    correct_predictions = 0\n",
        "    total_predictions = 0\n",
        "\n",
        "    for i, data in enumerate(train_loader, 0):\n",
        "        # get the inputs; data is a list of [inputs, labels]\n",
        "        inputs, labels = data\n",
        "        # zero the parameter gradients\n",
        "        optimizer.zero_grad()\n",
        "\n",
        "        # forward + backward + optimize\n",
        "        outputs = net(inputs)\n",
        "        loss = criterion(outputs, labels)\n",
        "        loss.backward()\n",
        "        optimizer.step()\n",
        "\n",
        "        # Calculate accuracy\n",
        "        _, predicted = torch.max(outputs.data, 1)\n",
        "        total_predictions += labels.size(0)\n",
        "        correct_predictions += (predicted == labels).sum().item()\n",
        "\n",
        "        # print statistics\n",
        "        running_loss += loss.item()\n",
        "        if i % 50 == 49:    # print every 50 mini-batches\n",
        "            average_loss = running_loss / 50\n",
        "            average_accuracy = 100 * correct_predictions / total_predictions\n",
        "\n",
        "            print(f'[{epoch + 1}, {i + 1:5d}] loss: {average_loss:.6f}, accuracy: {average_accuracy:.2f}%')\n",
        "\n",
        "            # Store the loss and accuracy\n",
        "            loss_list.append(average_loss)\n",
        "            accuracy_list.append(average_accuracy)\n",
        "\n",
        "            running_loss = 0.0\n",
        "            correct_predictions = 0\n",
        "            total_predictions = 0\n",
        "\n",
        "print('Finished Training')"
      ]
    },
    {
      "cell_type": "code",
      "execution_count": null,
      "id": "61fadcdb",
      "metadata": {
        "id": "61fadcdb",
        "outputId": "81dfc843-3739-4be8-fa5d-4be450d679e1"
      },
      "outputs": [
        {
          "data": {
            "image/png": "[encoded data removed]",
            "text/plain": [
              "<Figure size 640x480 with 2 Axes>"
            ]
          },
          "metadata": {},
          "output_type": "display_data"
        }
      ],
      "source": [
        "import matplotlib.pyplot as plt\n",
        "\n",
        "# Creating the x axis: each point here represents an interval of 50 mini-batches\n",
        "x_axis = range(1, len(loss_list) + 1)\n",
        "\n",
        "# Creating subplots: the function subplots() returns a Figure and an Axes object or an array of Axes objects\n",
        "fig, ax1 = plt.subplots()\n",
        "\n",
        "# Plotting the loss (left Y-axis)\n",
        "ax1.set_xlabel('Every 50 mini-batches')\n",
        "ax1.set_ylabel('Loss', color='tab:red')\n",
        "ax1.plot(x_axis, loss_list, color='tab:red')\n",
        "ax1.tick_params(axis='y', labelcolor='tab:red')\n",
        "\n",
        "# Creating a second Y-axis to plot the accuracy\n",
        "ax2 = ax1.twinx()\n",
        "ax2.set_ylabel('Accuracy (%)', color='tab:blue')\n",
        "ax2.plot(x_axis, accuracy_list, color='tab:blue')\n",
        "ax2.tick_params(axis='y', labelcolor='tab:blue')\n",
        "\n",
        "# Adding a title to the plot and showing it\n",
        "fig.tight_layout()\n",
        "plt.title('Training Loss and Accuracy')\n",
        "plt.show()"
      ]
    },
    {
      "cell_type": "code",
      "execution_count": null,
      "id": "d16745ba",
      "metadata": {
        "id": "d16745ba",
        "outputId": "081c4c94-c28b-4e91-87b1-12ea6a5d0b04"
      },
      "outputs": [
        {
          "name": "stdout",
          "output_type": "stream",
          "text": [
            "Test Loss: 0.001555\n",
            "\n",
            "Test Accuracy: 98.22% (1768.0/1800.0)\n",
            "\n"
          ]
        }
      ],
      "source": [
        "\n",
        "# Monitor test loss and accuracy\n",
        "test_loss = 0.\n",
        "correct = 0.\n",
        "total = 0.\n",
        "\n",
        "predictions = []\n",
        "true_labels = []\n",
        "\n",
        "model.eval()  # Set model to evaluate mode\n",
        "with torch.no_grad():\n",
        "    for i, data in enumerate(test_loader, 0):\n",
        "        # Forward pass: compute predicted outputs by passing inputs to the model\n",
        "        inputs, labels = data\n",
        "        output = net(inputs)\n",
        "\n",
        "        # Calculate the loss\n",
        "        loss = criterion(output, labels)\n",
        "        test_loss += loss.item()\n",
        "\n",
        "        # Calculate accuracy\n",
        "        _, predicted = torch.max(output.data, 1)\n",
        "        total += labels.size(0)\n",
        "        correct += (predicted == labels).sum().item()\n",
        "\n",
        "        predictions.extend(predicted.cpu().numpy())\n",
        "        true_labels.extend(labels.cpu().numpy())\n",
        "\n",
        "test_loss = test_loss / len(test_loader.dataset)\n",
        "accuracy = 100 * correct / total\n",
        "\n",
        "print(f'Test Loss: {test_loss:.6f}\\n')\n",
        "print(f'Test Accuracy: {accuracy:.2f}% ({correct}/{total})\\n')"
      ]
    },
    {
      "cell_type": "code",
      "execution_count": null,
      "id": "ec1f81c0",
      "metadata": {
        "id": "ec1f81c0",
        "outputId": "37b79936-3a2b-4d78-ea85-4776c353ecc8"
      },
      "outputs": [
        {
          "name": "stdout",
          "output_type": "stream",
          "text": [
            "Classification Report on Testing Set:\n",
            "              precision    recall  f1-score   support\n",
            "\n",
            "           0       0.99      1.00      1.00       303\n",
            "           1       1.00      1.00      1.00       291\n",
            "           2       0.97      0.98      0.98       307\n",
            "           3       1.00      1.00      1.00       292\n",
            "           4       0.94      0.98      0.96       299\n",
            "           5       0.99      0.94      0.96       308\n",
            "\n",
            "    accuracy                           0.98      1800\n",
            "   macro avg       0.98      0.98      0.98      1800\n",
            "weighted avg       0.98      0.98      0.98      1800\n",
            "\n"
          ]
        }
      ],
      "source": [
        "report = classification_report(true_labels, predictions)\n",
        "\n",
        "print(\"Classification Report on Testing Set:\")\n",
        "print(report)"
      ]
    }
  ],
  "metadata": {
    "kernelspec": {
      "display_name": "Python 3 (ipykernel)",
      "language": "python",
      "name": "python3"
    },
    "language_info": {
      "codemirror_mode": {
        "name": "ipython",
        "version": 3
      },
      "file_extension": ".py",
      "mimetype": "text/x-python",
      "name": "python",
      "nbconvert_exporter": "python",
      "pygments_lexer": "ipython3",
      "version": "3.10.11"
    },
    "colab": {
      "provenance": [],
      "include_colab_link": true
    }
  },
  "nbformat": 4,
  "nbformat_minor": 5
}