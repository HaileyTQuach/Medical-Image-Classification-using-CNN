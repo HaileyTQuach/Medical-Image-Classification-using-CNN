{
  "nbformat": 4,
  "nbformat_minor": 0,
  "metadata": {
    "colab": {
      "provenance": [],
      "gpuType": "T4",
      "authorship_tag": "ABX9TyM1vFp3kxSSaaxMePWK+Uw9",
      "include_colab_link": true
    },
    "kernelspec": {
      "name": "python3",
      "display_name": "Python 3"
    },
    "language_info": {
      "name": "python"
    },
    "accelerator": "GPU"
  },
  "cells": [
    {
      "cell_type": "markdown",
      "metadata": {
        "id": "view-in-github",
        "colab_type": "text"
      },
      "source": [
        "<a href=\"https://colab.research.google.com/github/suinkangme/COMP432-GroupI/blob/main/hyperparameter_search_with_Orion.ipynb\" target=\"_parent\"><img src=\"https://colab.research.google.com/assets/colab-badge.svg\" alt=\"Open In Colab\"/></a>"
      ]
    },
    {
      "cell_type": "code",
      "execution_count": null,
      "metadata": {
        "colab": {
          "base_uri": "https://localhost:8080/"
        },
        "id": "CI8tjSckYODF",
        "outputId": "d6cb581f-0960-4c3c-ce97-9c114fabbe55"
      },
      "outputs": [
        {
          "output_type": "stream",
          "name": "stdout",
          "text": [
            "Downloading...\n",
            "From: https://drive.google.com/uc?id=1NFGnrygrAZmoDpSwoL66ZjMlDBo7I5NN\n",
            "To: /content/train_data.npz\n",
            "100% 869M/869M [00:06<00:00, 139MB/s]\n",
            "Downloading...\n",
            "From: https://drive.google.com/uc?id=1-1HrZIEGdHrsKzmtz7xikOFHhKOqvpH7\n",
            "To: /content/test_data.npz\n",
            "100% 218M/218M [00:02<00:00, 86.4MB/s]\n"
          ]
        }
      ],
      "source": [
        "!gdown --fuzzy 'https://drive.google.com/file/d/1NFGnrygrAZmoDpSwoL66ZjMlDBo7I5NN/view?usp=sharing'\n",
        "!gdown --fuzzy 'https://drive.google.com/file/d/1-1HrZIEGdHrsKzmtz7xikOFHhKOqvpH7/view?usp=drive_link'"
      ]
    },
    {
      "cell_type": "code",
      "source": [
        "%%capture\n",
        "!pip install git+https://github.com/epistimio/orion.git@develop\n",
        "!pip install orion[profet]"
      ],
      "metadata": {
        "id": "penbIn_0ZNaS"
      },
      "execution_count": null,
      "outputs": []
    },
    {
      "cell_type": "code",
      "source": [
        "%%file train.py\n",
        "\n",
        "import argparse\n",
        "import numpy as np\n",
        "import sklearn\n",
        "import sklearn.preprocessing\n",
        "import sklearn.neural_network\n",
        "from orion.client import report_objective # Orion\n",
        "from sklearn.model_selection import train_test_split\n",
        "import torch\n",
        "import torch.nn as nn\n",
        "import torch.optim as optim\n",
        "import torchvision\n",
        "from torchvision import transforms\n",
        "from torchvision.models import resnet18\n",
        "from torch.utils.data import DataLoader, TensorDataset\n",
        "import pandas as pd\n",
        "import seaborn as sns\n",
        "\n",
        "def train():\n",
        "    parser = argparse.ArgumentParser(description='PyTorch MNIST Example')\n",
        "    parser.add_argument('--batchsize', type=int, default=64,\n",
        "                        help='input batch size for training (default: 64)')\n",
        "    parser.add_argument('--epochs', type=int, default=10,\n",
        "                        help='number of epochs to train (default: 14)')\n",
        "    parser.add_argument('--lr', type=float, default=0.01,\n",
        "                        help='learning rate (default: 1.0)')\n",
        "    parser.add_argument('--eval', type=bool, default=False,\n",
        "                        help='If True it prints the test error (default: False)')\n",
        "    parser.add_argument(\"-f\", required=False)\n",
        "    args = parser.parse_args()\n",
        "\n",
        "    with np.load(\"train_data.npz\") as data:\n",
        "        X_trn = data['images']\n",
        "        y_trn = data['labels']\n",
        "\n",
        "    with np.load(\"test_data.npz\") as data:\n",
        "        X_tst = data['images']\n",
        "        y_tst = data['labels']\n",
        "\n",
        "    X_trn, X_valid, y_trn, y_valid = train_test_split(X_trn, y_trn, test_size = 0.375)\n",
        "\n",
        "    X_train_tensor = torch.from_numpy(X_trn)\n",
        "    y_train_tensor = torch.from_numpy(y_trn)\n",
        "    X_test_tensor = torch.from_numpy(X_tst)\n",
        "    y_test_tensor = torch.from_numpy(y_tst)\n",
        "    X_valid_tensor = torch.from_numpy(X_valid)\n",
        "    y_valid_tensor = torch.from_numpy(y_valid)\n",
        "\n",
        "    train_dataset = TensorDataset(X_train_tensor, y_train_tensor)\n",
        "    test_dataset = TensorDataset(X_test_tensor, y_test_tensor)\n",
        "    valid_dataset= TensorDataset(X_valid_tensor, y_valid_tensor)\n",
        "\n",
        "    classes = ['MUS', 'NORM', 'STR']\n",
        "\n",
        "    train_loader = DataLoader(train_dataset, batch_size= args.batchsize, shuffle=True)\n",
        "    test_loader = DataLoader(test_dataset, batch_size= args.batchsize, shuffle=False)\n",
        "    valid_loader = DataLoader(valid_dataset, batch_size = args.batchsize, shuffle = False)\n",
        "\n",
        "    model = resnet18(weights = None)\n",
        "    num_classes = len(classes)\n",
        "    num_features = model.fc.in_features\n",
        "    model.fc = nn.Linear(num_features, num_classes)\n",
        "\n",
        "    optimizer = optim.Adam(model.parameters(), lr = args.lr)\n",
        "    criterion = nn.CrossEntropyLoss()\n",
        "\n",
        "    # Training\n",
        "    # Training the model\n",
        "    device = torch.device(\"cuda\" if torch.cuda.is_available() else \"cpu\")\n",
        "    model.to(device)\n",
        "\n",
        "    for epoch in range(args.epochs):\n",
        "      model.train()\n",
        "      running_loss = 0.0\n",
        "      correct = 0\n",
        "      total = 0\n",
        "      for images, labels in train_loader:\n",
        "        images, labels = images.to(device), labels.to(device)\n",
        "        batch_size= images.shape[0]\n",
        "        h= images.shape[1]\n",
        "        w= images.shape[2]\n",
        "        channels= images.shape[3]\n",
        "        images= torch.reshape(images,(batch_size,channels,h,w))\n",
        "        optimizer.zero_grad()\n",
        "        outputs = model(images)\n",
        "        loss = criterion(outputs, labels)\n",
        "        loss.backward()\n",
        "        optimizer.step()\n",
        "        #running_loss += loss.item()\n",
        "\n",
        "    # validation\n",
        "    running_loss = 0.0\n",
        "    correct = 0\n",
        "    total = 0\n",
        "    with torch.no_grad():\n",
        "      for images, labels in valid_loader:\n",
        "        images, labels = images.to(device), labels.to(device)\n",
        "        batch_size= images.shape[0]\n",
        "        h= images.shape[1]\n",
        "        w= images.shape[2]\n",
        "        channels= images.shape[3]\n",
        "        images= torch.reshape(images,(batch_size,channels,h,w))\n",
        "        outputs = model(images)\n",
        "        _, predicted = torch.max(outputs.data, 1)\n",
        "        total += labels.size(0)\n",
        "        correct += (predicted == labels).sum().item()\n",
        "\n",
        "    valid_error = 100*(1 - (correct/total))\n",
        "    print(\"Valid Error (\\%): \" + str(valid_error))\n",
        "\n",
        "    report_objective(valid_error)\n",
        "\n",
        "    if args.eval:\n",
        "      running_loss = 0\n",
        "      total = 0\n",
        "      correct = 0\n",
        "      with torch.no_grad():\n",
        "        for data in test_loader:\n",
        "          images, labels = data\n",
        "          images, labels = images.to(device), labels.to(device)\n",
        "          batch_size= images.shape[0]\n",
        "          h= images.shape[1]\n",
        "          w= images.shape[2]\n",
        "          channels= images.shape[3]\n",
        "          images= torch.reshape(images,(batch_size,channels,h,w))\n",
        "          outputs = model(images)\n",
        "          loss = criterion(outputs, labels)\n",
        "          running_loss += loss.item()\n",
        "          _, predicted = torch.max(outputs.data, 1)\n",
        "          total += labels.size(0)\n",
        "          correct += (predicted == labels).sum().item()\n",
        "      test_error = 100*(1-(correct/total))\n",
        "      print(\"Test Error (\\%): \" + str(test_error))\n",
        "\n",
        "if __name__ == '__main__':\n",
        "    train()"
      ],
      "metadata": {
        "id": "FC1LLannaGvJ",
        "colab": {
          "base_uri": "https://localhost:8080/"
        },
        "outputId": "ca1ab78b-16c7-4cd2-c76f-77f099437da0"
      },
      "execution_count": null,
      "outputs": [
        {
          "output_type": "stream",
          "name": "stdout",
          "text": [
            "Writing train.py\n"
          ]
        }
      ]
    },
    {
      "cell_type": "code",
      "source": [
        "!orion hunt -n hp_adam --exp-max-trials=15 python train.py --lr~'loguniform(1e-4, 0.1)' --batchsize~'choices([16, 32, 64])' --epochs~'uniform(15, 30, discrete=True)'"
      ],
      "metadata": {
        "colab": {
          "base_uri": "https://localhost:8080/"
        },
        "id": "QD_emTVpliSR",
        "outputId": "0802d022-18a5-48a1-ee09-2ee383f3d040"
      },
      "execution_count": null,
      "outputs": [
        {
          "output_type": "stream",
          "name": "stdout",
          "text": [
            "2023-11-13 19:15:02,188::WARNING::root::Script /content/train.py is not in a git repository. Code modification won't be detected.\n",
            "2023-11-13 19:15:02,343::WARNING::root::Script /content/train.py is not in a git repository. Code modification won't be detected.\n",
            "2023-11-13 19:15:04,955::WARNING::root::Script /content/train.py is not in a git repository. Code modification won't be detected.\n",
            "2023-11-13 19:15:05,457::WARNING::root::Script /content/train.py is not in a git repository. Code modification won't be detected.\n",
            "2023-11-13 19:27:23,894::WARNING::orion.client.runner::Delaying signal 2 to finish operations\n",
            "2023-11-13 19:27:23,895::WARNING::orion.client.runner::Press CTRL-C again to terminate the program now  (You may lose results)\n",
            "2023-11-13 19:27:23,895::WARNING::orion.client.runner::Termination was delayed by 0.0001 s\n",
            "Process PoolWorker-1:\n",
            "Traceback (most recent call last):\n",
            "  File \"/usr/lib/python3.10/multiprocessing/process.py\", line 314, in _bootstrap\n",
            "    self.run()\n",
            "  File \"/usr/lib/python3.10/multiprocessing/process.py\", line 108, in run\n",
            "    self._target(*self._args, **self._kwargs)\n",
            "  File \"/usr/lib/python3.10/multiprocessing/pool.py\", line 125, in worker\n",
            "    result = (True, func(*args, **kwds))\n",
            "  File \"/usr/local/lib/python3.10/dist-packages/orion/executor/multiprocess_backend.py\", line 25, in _couldpickle_exec\n",
            "    result = function(*args, **kwargs)\n",
            "  File \"/usr/local/lib/python3.10/dist-packages/orion/client/runner.py\", line 123, in _optimize\n",
            "    return fct(**unflatten(kwargs))\n",
            "  File \"/usr/local/lib/python3.10/dist-packages/orion/core/worker/consumer.py\", line 121, in __call__\n",
            "    results_file = self._consume(trial, trial.working_dir)\n",
            "  File \"/usr/local/lib/python3.10/dist-packages/orion/core/worker/consumer.py\", line 223, in _consume\n",
            "    self.execute_process(cmd_args, env)\n",
            "  File \"/usr/local/lib/python3.10/dist-packages/orion/core/worker/consumer.py\", line 261, in execute_process\n",
            "    return_code = process.wait()\n",
            "  File \"/usr/lib/python3.10/subprocess.py\", line 1209, in wait\n",
            "    return self._wait(timeout=timeout)\n",
            "  File \"/usr/lib/python3.10/subprocess.py\", line 1959, in _wait\n",
            "    (pid, sts) = self._try_wait(0)\n",
            "  File \"/usr/lib/python3.10/subprocess.py\", line 1917, in _try_wait\n",
            "    (pid, sts) = os.waitpid(self.pid, wait_flags)\n",
            "KeyboardInterrupt\n",
            "Traceback (most recent call last):\n",
            "  File \"/content/train.py\", line 136, in <module>\n",
            "    train()\n",
            "  File \"/content/train.py\", line 87, in train\n",
            "    loss.backward()\n",
            "  File \"/usr/local/lib/python3.10/dist-packages/torch/_tensor.py\", line 492, in backward\n",
            "    torch.autograd.backward(\n",
            "  File \"/usr/local/lib/python3.10/dist-packages/torch/autograd/__init__.py\", line 251, in backward\n",
            "    Variable._execution_engine.run_backward(  # Calls into the C++ engine to run the backward pass\n",
            "KeyboardInterrupt\n"
          ]
        }
      ]
    },
    {
      "cell_type": "code",
      "source": [
        "!orion info --name hp_adam --version 1"
      ],
      "metadata": {
        "colab": {
          "base_uri": "https://localhost:8080/"
        },
        "id": "e_S8Dk-p-NkD",
        "outputId": "e0fcd962-522d-4f6d-a21e-ca566a3f365e"
      },
      "execution_count": null,
      "outputs": [
        {
          "output_type": "stream",
          "name": "stdout",
          "text": [
            "/bin/bash: line 1: orion: command not found\n"
          ]
        }
      ]
    },
    {
      "cell_type": "markdown",
      "source": [
        "First run disconnected: results here:\n",
        "\n",
        "2023-11-13 17:33:09,346::WARNING::root::Script /content/train.py is not in a git repository. Code modification won't be detected.\n",
        "2023-11-13 17:33:09,462::WARNING::root::Script /content/train.py is not in a git repository. Code modification won't be detected.\n",
        "2023-11-13 17:33:14,216::WARNING::root::Script /content/train.py is not in a git repository. Code modification won't be detected.\n",
        "2023-11-13 17:33:14,685::WARNING::root::Script /content/train.py is not in a git repository. Code modification won't be detected.\n",
        "Valid Error (\\%): 27.0\n",
        "2023-11-13 17:37:14,750::WARNING::root::Script /content/train.py is not in a git repository. Code modification won't be detected.\n",
        "Valid Error (\\%): 31.666666666666664\n",
        "2023-11-13 17:40:35,544::WARNING::root::Script /content/train.py is not in a git repository. Code modification won't be detected.\n",
        "Valid Error (\\%): 27.44444444444445\n",
        "2023-11-13 17:44:31,909::WARNING::root::Script /content/train.py is not in a git repository. Code modification won't be detected.\n",
        "Valid Error (\\%): 13.555555555555554\n",
        "2023-11-13 17:48:54,486::WARNING::root::Script /content/train.py is not in a git repository. Code modification won't be detected.\n",
        "Valid Error (\\%): 21.333333333333336\n",
        "2023-11-13 17:52:46,323::WARNING::root::Script /content/train.py is not in a git repository. Code modification won't be detected.\n",
        "Valid Error (\\%): 25.388888888888893\n",
        "2023-11-13 17:57:03,199::WARNING::root::Script /content/train.py is not in a git repository. Code modification won't be detected.\n",
        "Valid Error (\\%): 16.11111111111111\n",
        "2023-11-13 18:01:45,248::WARNING::root::Script /content/train.py is not in a git repository. Code modification won't be detected.\n",
        "Valid Error (\\%): 20.611111111111114\n",
        "2023-11-13 18:05:34,455::WARNING::root::Script /content/train.py is not in a git repository. Code modification won't be detected.\n",
        "Valid Error (\\%): 32.611111111111114\n",
        "2023-11-13 18:08:37,094::WARNING::root::Script /content/train.py is not in a git repository. Code modification won't be detected.\n",
        "Valid Error (\\%): 19.444444444444443\n",
        "2023-11-13 18:12:03,111::WARNING::root::Script /content/train.py is not in a git repository. Code modification won't be detected.\n",
        "Valid Error (\\%): 22.22222222222222\n",
        "2023-11-13 18:15:26,246::WARNING::root::Script /content/train.py is not in a git repository. Code modification won't be detected.\n",
        "Valid Error (\\%): 15.888888888888886\n",
        "2023-11-13 18:19:01,091::WARNING::root::Script /content/train.py is not in a git repository. Code modification won't be detected.\n",
        "Valid Error (\\%): 22.277777777777775\n",
        "2023-11-13 18:21:49,862::WARNING::root::Script /content/train.py is not in a git repository. Code modification won't be detected.\n",
        "Valid Error (\\%): 16.77777777777778\n",
        "2023-11-13 18:26:16,074::WARNING::root::Script /content/train.py is not in a git repository. Code modification won't be detected.\n",
        "Valid Error (\\%): 23.33333333333333\n",
        "Search finished successfully\n",
        "\n",
        "Stats\n",
        "=====\n",
        "completed: True\n",
        "trials completed: 15\n",
        "best trial:\n",
        "  id: 13e9799d5615f66c6b84e7fe7a295047\n",
        "  evaluation: 13.555555555555554\n",
        "  params:\n",
        "    /batchsize: 32\n",
        "    /epochs: 26\n",
        "    /lr: 0.0006515\n",
        "start time: 2023-11-13 17:33:14.202656\n",
        "finish time: 2023-11-13 18:29:18.666711\n",
        "elapsed_time: 0:56:03.995837\n",
        "\n",
        "\n",
        "Hints\n",
        "=====\n",
        "\n",
        "Info\n",
        "----\n",
        "\n",
        "To get more information on the experiment, run the command\n",
        "\n",
        "orion info --name hp_adam --version 1\n"
      ],
      "metadata": {
        "id": "VAPkHmVZ9fAg"
      }
    },
    {
      "cell_type": "code",
      "source": [
        "#!python train.py --lr=0.001399 --epochs=19 --batchsize=64 --eval='True' old value validation set with 0.125 of training set"
      ],
      "metadata": {
        "colab": {
          "base_uri": "https://localhost:8080/"
        },
        "id": "prBP643hXgbg",
        "outputId": "4458a0b7-a219-4df7-e0f2-91374b9d6c86"
      },
      "execution_count": null,
      "outputs": [
        {
          "output_type": "stream",
          "name": "stdout",
          "text": [
            "Valid Error (\\%): 13.33333333333333\n",
            "[{'name': 'objective', 'type': 'objective', 'value': 13.33333333333333}]\n",
            "Test Error (\\%): 15.249999999999996\n"
          ]
        }
      ]
    },
    {
      "cell_type": "code",
      "source": [
        "#!python train.py --lr=0.001588 --epochs=41 --batchsize=64 --eval='True' - old value validation set 0.1 of training set"
      ],
      "metadata": {
        "colab": {
          "base_uri": "https://localhost:8080/"
        },
        "id": "p18Auk5U-QL4",
        "outputId": "018aac4a-bde0-45ba-bd73-f104ec20c096"
      },
      "execution_count": null,
      "outputs": [
        {
          "output_type": "stream",
          "name": "stdout",
          "text": [
            "Valid Error (\\%): 13.749999999999996\n",
            "[{'name': 'objective', 'type': 'objective', 'value': 13.749999999999996}]\n",
            "Test Error (\\%): 12.83333333333333\n"
          ]
        }
      ]
    }
  ]
}